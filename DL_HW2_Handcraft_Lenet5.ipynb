{
  "cells": [
    {
      "cell_type": "markdown",
      "metadata": {
        "id": "view-in-github",
        "colab_type": "text"
      },
      "source": [
        "<a href=\"https://colab.research.google.com/github/podo47/DL_HW2_Handcraft_LeNet5-Computational_Graph/blob/main/DL_HW2_Handcraft_Lenet5.ipynb\" target=\"_parent\"><img src=\"https://colab.research.google.com/assets/colab-badge.svg\" alt=\"Open In Colab\"/></a>"
      ]
    },
    {
      "cell_type": "markdown",
      "metadata": {
        "id": "HK2yVHbvCxQ8"
      },
      "source": [
        "# LeNet-5"
      ]
    },
    {
      "cell_type": "markdown",
      "metadata": {
        "id": "R1y4w23pCuO4"
      },
      "source": [
        "## Mount to drive"
      ]
    },
    {
      "cell_type": "code",
      "execution_count": null,
      "metadata": {
        "colab": {
          "base_uri": "https://localhost:8080/"
        },
        "id": "kFVWU4lUzzx9",
        "outputId": "0b1257b6-fa72-4080-d05f-7478048d9271"
      },
      "outputs": [
        {
          "output_type": "stream",
          "name": "stdout",
          "text": [
            "Mounted at /content/drive\n"
          ]
        }
      ],
      "source": [
        "from google.colab import drive\n",
        "drive.mount('/content/drive') "
      ]
    },
    {
      "cell_type": "markdown",
      "metadata": {
        "id": "GkTGS_ltC66b"
      },
      "source": [
        "## Import libraries"
      ]
    },
    {
      "cell_type": "code",
      "execution_count": null,
      "metadata": {
        "id": "WOZA2Q0-C8U6"
      },
      "outputs": [],
      "source": [
        "import os\n",
        "import math\n",
        "import numpy as np \n",
        "import pandas as pd \n",
        "import matplotlib.pyplot as plt \n",
        "from PIL import Image\n",
        "import cv2\n",
        "from multiprocessing.pool import ThreadPool\n",
        "import time\n",
        "import pickle\n",
        "from tqdm import tqdm"
      ]
    },
    {
      "cell_type": "code",
      "execution_count": null,
      "metadata": {
        "id": "kzmxL4THDAU0"
      },
      "outputs": [],
      "source": [
        "import warnings\n",
        "warnings.filterwarnings('ignore')"
      ]
    },
    {
      "cell_type": "markdown",
      "metadata": {
        "id": "uWymwZ1EDC3O"
      },
      "source": [
        "## Part 1 : Data preprocessing"
      ]
    },
    {
      "cell_type": "markdown",
      "metadata": {
        "id": "DloSn-46LTli"
      },
      "source": [
        "### Import data"
      ]
    },
    {
      "cell_type": "code",
      "execution_count": null,
      "metadata": {
        "id": "sQGlA59MDECa"
      },
      "outputs": [],
      "source": [
        "train = pd.read_csv('/content/drive/MyDrive/images/train.txt', sep=\" \",header=None)\n",
        "train_dir = np.array(train[0])\n",
        "train_y = np.array(train[1])\n",
        "\n",
        "valid = pd.read_csv('/content/drive/MyDrive/images/val.txt', sep=\" \",header=None)\n",
        "valid_dir = np.array(valid[0])\n",
        "valid_y = np.array(valid[1])\n",
        "\n",
        "test = pd.read_csv('/content/drive/MyDrive/images/test.txt', sep=\" \",header=None)\n",
        "test_dir = np.array(test[0])\n",
        "test_y = np.array(test[1])"
      ]
    },
    {
      "cell_type": "markdown",
      "metadata": {
        "id": "A6BAhqR42q1U"
      },
      "source": [
        "### Read images to array"
      ]
    },
    {
      "cell_type": "code",
      "execution_count": null,
      "metadata": {
        "id": "DqlepSy2_-K9"
      },
      "outputs": [],
      "source": [
        "def read_image(imgname):\n",
        "    img = cv2.imread('/content/drive/MyDrive/'+imgname)\n",
        "    img = cv2.resize(img, (28, 28))\n",
        "    return img\n",
        "\n",
        "def read_images_to_array(data_dir):\n",
        "    pool = ThreadPool(processes=2) # 指定使用 2 個進程\n",
        "    X = pool.map(read_image, data_dir)\n",
        "    pool.close()\n",
        "    pool.join()\n",
        "    X = np.array(X)\n",
        "    return X"
      ]
    },
    {
      "cell_type": "markdown",
      "metadata": {
        "id": "5_1nH6Gm2wcZ"
      },
      "source": [
        "#### Save data (can skip)"
      ]
    },
    {
      "cell_type": "code",
      "execution_count": null,
      "metadata": {
        "id": "FDctbFs_RcWY"
      },
      "outputs": [],
      "source": [
        "# To save time, you can just skip this step, as the output has already been stored\n",
        "\n",
        "X_train = read_images_to_array(train_dir)\n",
        "X_valid = read_images_to_array(valid_dir)\n",
        "X_test = read_images_to_array(test_dir)\n"
      ]
    },
    {
      "cell_type": "code",
      "execution_count": null,
      "metadata": {
        "id": "E8mfBQ6-6wAr"
      },
      "outputs": [],
      "source": [
        "# save them to a file\n",
        "np.savez(\"/content/drive/MyDrive/images/rgb_dataset.npz\", traindata=X_train, validdata=X_valid, testdata=X_test)"
      ]
    },
    {
      "cell_type": "markdown",
      "metadata": {
        "id": "AJO0MrW920F2"
      },
      "source": [
        "#### Load data"
      ]
    },
    {
      "cell_type": "code",
      "execution_count": null,
      "metadata": {
        "id": "mXcsq7vj65Sd"
      },
      "outputs": [],
      "source": [
        "with np.load(\"/content/drive/MyDrive/images/rgb_dataset.npz\") as data:\n",
        "    X_train = data[\"traindata\"]\n",
        "    X_valid = data[\"validdata\"]\n",
        "    X_test = data[\"testdata\"]"
      ]
    },
    {
      "cell_type": "code",
      "execution_count": null,
      "metadata": {
        "colab": {
          "base_uri": "https://localhost:8080/"
        },
        "id": "LvyiFBTt4V2O",
        "outputId": "6bfed482-df4a-45ea-db26-b9df9b955b8d"
      },
      "outputs": [
        {
          "name": "stdout",
          "output_type": "stream",
          "text": [
            "X_train shape :  (63325, 28, 28, 3)\n",
            "X_valid shape :  (450, 28, 28, 3)\n",
            "X_test shape :  (450, 28, 28, 3)\n"
          ]
        }
      ],
      "source": [
        "print('X_train shape : ', X_train.shape)\n",
        "print('X_valid shape : ',X_valid.shape)\n",
        "print('X_test shape : ',X_test.shape)"
      ]
    },
    {
      "cell_type": "markdown",
      "metadata": {
        "id": "q44OK9gMQx-V"
      },
      "source": [
        "### Mini-batch"
      ]
    },
    {
      "cell_type": "code",
      "execution_count": null,
      "metadata": {
        "id": "sXf9eMkvQ2nK"
      },
      "outputs": [],
      "source": [
        "# generate random-shuffled mini-batches\n",
        "def random_mini_batches(image, label, mini_batch_size = 256):\n",
        "    dataset_size = image.shape[0] # number of training examples\n",
        "    mini_batches = []\n",
        "    # shuffle (image, label)\n",
        "    permutation = list(np.random.permutation(dataset_size))\n",
        "    shuffled_image = image[permutation, :, :, :]\n",
        "    shuffled_label = label[permutation]\n",
        "    # partition (shuffled_image, shuffled_label). Minus the end case.\n",
        "    complete_minibatches_number = math.floor(dataset_size / mini_batch_size) # number of mini batches of size mini_batch_size in your partitionning\n",
        "    for k in range(0, complete_minibatches_number):\n",
        "        mini_batch_image = shuffled_image[k * mini_batch_size: k * mini_batch_size + mini_batch_size, :, :, :]\n",
        "        mini_batch_label = shuffled_label[k * mini_batch_size: k * mini_batch_size + mini_batch_size]\n",
        "        mini_batch = (mini_batch_image, mini_batch_label)\n",
        "        mini_batches.append(mini_batch)\n",
        "    # handle the end case (last mini-batch < mini_batch_size)\n",
        "    if dataset_size % mini_batch_size != 0:\n",
        "        mini_batch_image = shuffled_image[complete_minibatches_number * mini_batch_size: dataset_size, :, :, :]\n",
        "        mini_batch_label = shuffled_label[complete_minibatches_number * mini_batch_size: dataset_size]\n",
        "        mini_batch = (mini_batch_image, mini_batch_label)\n",
        "        mini_batches.append(mini_batch)\n",
        "    return mini_batches"
      ]
    },
    {
      "cell_type": "markdown",
      "metadata": {
        "id": "RViZpFnbQ25Z"
      },
      "source": [
        "### Data preprocessing"
      ]
    },
    {
      "cell_type": "markdown",
      "metadata": {
        "id": "E2CWDVBVRSAM"
      },
      "source": [
        "#### Zero pad"
      ]
    },
    {
      "cell_type": "code",
      "execution_count": null,
      "metadata": {
        "id": "2wBidWkaRcoK"
      },
      "outputs": [],
      "source": [
        "# padding for the matrix of images\n",
        "def zero_pad(X, pad):\n",
        "    X_pad = np.pad(X, ((0, ), (pad, ), (pad, ), (0, )), \"constant\", constant_values = (0, 0))\n",
        "    return X_pad"
      ]
    },
    {
      "cell_type": "markdown",
      "metadata": {
        "id": "1u1xzO_1RdDM"
      },
      "source": [
        "#### Normalization"
      ]
    },
    {
      "cell_type": "code",
      "execution_count": null,
      "metadata": {
        "id": "Xz8CwxVKRg9B"
      },
      "outputs": [],
      "source": [
        "# normalise the dataset\n",
        "def normalise(image):\n",
        "    image -= image.min()\n",
        "    image = image / image.max()\n",
        "    image = (image - np.mean(image)) / np.std(image)\n",
        "    return image"
      ]
    },
    {
      "cell_type": "markdown",
      "metadata": {
        "id": "DP7aNAb-Rj9V"
      },
      "source": [
        "#### Load dataset"
      ]
    },
    {
      "cell_type": "code",
      "execution_count": null,
      "metadata": {
        "id": "UMVe3dW90fTG"
      },
      "outputs": [],
      "source": [
        "def load_dataset(X_dataset, label):\n",
        "    # data preprocessing\n",
        "    image_normalised_pad = normalise(zero_pad(X_dataset, 2))\n",
        "    return (image_normalised_pad, label)"
      ]
    },
    {
      "cell_type": "markdown",
      "metadata": {
        "id": "dQzXhTqW4uqn"
      },
      "source": [
        "## Part 2 : CNN Layer"
      ]
    },
    {
      "cell_type": "markdown",
      "metadata": {
        "id": "PKPDZgh5VrkL"
      },
      "source": [
        "#### Initialisation "
      ]
    },
    {
      "cell_type": "code",
      "execution_count": null,
      "metadata": {
        "id": "HNVtxZdj4ua4"
      },
      "outputs": [],
      "source": [
        "# Initialisation of the weights & bias\n",
        "def initialise(kernel_shape, sigma = 0.01, bias_factor = 0.001):\n",
        "    bias_shape = (1, 1, 1, kernel_shape[-1]) if len(kernel_shape) == 4 else (kernel_shape[-1], )\n",
        "    weight = np.random.normal(0, sigma, kernel_shape)\n",
        "    bias = np.ones(bias_shape) * bias_factor\n",
        "    return weight, bias"
      ]
    },
    {
      "cell_type": "markdown",
      "metadata": {
        "id": "t-uh1R6GVwq3"
      },
      "source": [
        "#### Softmax activation function"
      ]
    },
    {
      "cell_type": "code",
      "execution_count": null,
      "metadata": {
        "id": "aOTgArWBV0u1"
      },
      "outputs": [],
      "source": [
        "# Softmax activation function for the output layer\n",
        "def softmax(X):\n",
        "    X_softmax = np.exp(X) / np.array([np.sum(np.exp(X), axis = 1)]).T\n",
        "    return X_softmax"
      ]
    },
    {
      "cell_type": "markdown",
      "metadata": {
        "id": "wWIqQ3I9V5Et"
      },
      "source": [
        "#### Convolution Layer"
      ]
    },
    {
      "cell_type": "code",
      "execution_count": null,
      "metadata": {
        "id": "FBrmHH-HV6-M"
      },
      "outputs": [],
      "source": [
        "class Conv_Layer:\n",
        "    def __init__(self, kernel_shape, stride = 1, pad = 0, sigma = 0.01, bias_factor = 0.001):\n",
        "        self.weight, self.bias = initialise(kernel_shape, sigma, bias_factor)\n",
        "        self.stride = stride\n",
        "        self.pad = pad\n",
        "    \n",
        "    def forward_propagation(self, input_map):\n",
        "        self.input_map = input_map\n",
        "        batch_size, height_input, width_input, _ = input_map.shape\n",
        "        f, _, _, channel_output = self.weight.shape\n",
        "        height_output = int((height_input + 2 * self.pad - f) / self.stride + 1)\n",
        "        width_output = int((width_input + 2 * self.pad - f) / self.stride + 1)\n",
        "        output_map = np.zeros((batch_size, height_output, width_output, channel_output))\n",
        "        input_map_pad = zero_pad(input_map, self.pad)\n",
        "        for height in range(height_output):\n",
        "            for width in range(width_output):\n",
        "                vertical_start, vertical_end = height * self.stride, height * self.stride + f\n",
        "                horizontal_start, horizontal_end = width * self.stride, width * self.stride + f\n",
        "                input_map_slice = input_map_pad[:, vertical_start: vertical_end, horizontal_start: horizontal_end, :]\n",
        "                output_map[:, height, width, :] = np.tensordot(input_map_slice, self.weight, axes = ([1, 2, 3], [0, 1, 2])) + self.bias\n",
        "        return output_map\n",
        "    \n",
        "    def back_propagation(self, d_output_map, learning_rate):\n",
        "        f, _, _, channel_output = self.weight.shape\n",
        "        _, height_output, width_output, channel_output = d_output_map.shape\n",
        "        d_input_map = np.zeros(self.input_map.shape)\n",
        "        d_weight = np.zeros(self.weight.shape)\n",
        "        d_bias = np.zeros((1, 1, 1, channel_output))\n",
        "        if self.pad != 0:\n",
        "            input_map_pad = zero_pad(self.input_map, self.pad)\n",
        "            d_input_map_pad = zero_pad(d_input_map, self.pad)\n",
        "        else:\n",
        "            input_map_pad = self.input_map\n",
        "            d_input_map_pad = d_input_map\n",
        "        for height in range(height_output):\n",
        "            for width in range(width_output):\n",
        "                vertical_start, vertical_end = height * self.stride, height * self.stride + f\n",
        "                horizontal_start, horizontal_end = width * self.stride, width * self.stride + f\n",
        "                input_map_slice = input_map_pad[:, vertical_start: vertical_end, horizontal_start: horizontal_end, :]\n",
        "                d_input_map_pad[:, vertical_start: vertical_end, horizontal_start: horizontal_end, :] += np.transpose(np.dot(self.weight, d_output_map[:, height, width, :].T), (3, 0, 1, 2))\n",
        "                d_weight += np.dot(np.transpose(input_map_slice, (1, 2, 3, 0)), d_output_map[:, height, width, :])\n",
        "                d_bias += np.sum(d_output_map[:, height, width, :], axis = 0)\n",
        "        d_input_map = d_input_map_pad if self.pad == 0 else d_input_map_pad[:, self.pad: -self.pad, self.pad: -self.pad, :]\n",
        "        self.weight -= learning_rate * d_weight\n",
        "        self.bias -= learning_rate * d_bias\n",
        "        self.input_map = None\n",
        "        return d_input_map"
      ]
    },
    {
      "cell_type": "markdown",
      "metadata": {
        "id": "uT1pu8CHWATy"
      },
      "source": [
        "#### Sigmoid Activation Layer"
      ]
    },
    {
      "cell_type": "code",
      "execution_count": null,
      "metadata": {
        "id": "UGVpWYchWDxb"
      },
      "outputs": [],
      "source": [
        "class Sigmoid_Layer:\n",
        "    def forward_propagation(self, input_map):\n",
        "        self.output_map = 1 / (1 + np.exp(-input_map))\n",
        "        return self.output_map\n",
        "\n",
        "    \n",
        "    def back_propagation(self, d_output_map):\n",
        "        d_input_map = np.multiply(d_output_map, np.multiply(self.output_map, 1 - self.output_map))\n",
        "        self.output_map = None\n",
        "        return d_input_map"
      ]
    },
    {
      "cell_type": "markdown",
      "metadata": {
        "id": "PoiFpvvyWFjb"
      },
      "source": [
        "#### Max-Pooling Layer"
      ]
    },
    {
      "cell_type": "code",
      "execution_count": null,
      "metadata": {
        "id": "pLoEYEJBWIEu"
      },
      "outputs": [],
      "source": [
        "class MaxPool_Layer:\n",
        "    def __init__(self, stride = 2, f = 2):\n",
        "        self.stride = stride\n",
        "        self.f = f\n",
        "\n",
        "    def forward_propagation(self, input_map):\n",
        "        self.input_map = input_map\n",
        "        batch_size, height_input, width_input, channel = input_map.shape\n",
        "        height_output = int(1 + (height_input - self.f) / self.stride)\n",
        "        width_output = int(1 + (width_input - self.f) / self.stride)\n",
        "        output_map = np.zeros((batch_size, height_output, width_output, channel))\n",
        "        for height in range(height_output):\n",
        "            for width in range(width_output):\n",
        "                vertical_start, vertical_end = height * self.stride, height * self.stride + self.f\n",
        "                horizontal_start, horizontal_end = width * self.stride, width * self.stride + self.f\n",
        "                input_map_slice = input_map[:, vertical_start: vertical_end, horizontal_start: horizontal_end, :]\n",
        "                output_map[:, height, width, :] = np.max(input_map_slice, axis = (1, 2))\n",
        "        return output_map\n",
        "\n",
        "    def back_propagation(self, d_output_map):\n",
        "        _, height_output, width_output, _ = d_output_map.shape\n",
        "        d_input_map = np.zeros(self.input_map.shape)\n",
        "        for height in range(height_output):\n",
        "            for width in range(width_output):\n",
        "                vertical_start, vertical_end = height * self.stride, height * self.stride + self.f\n",
        "                horizontal_start, horizontal_end = width * self.stride, width * self.stride + self.f\n",
        "                input_map_slice = self.input_map[:, vertical_start: vertical_end, horizontal_start: horizontal_end, :]\n",
        "                input_map_slice = np.transpose(input_map_slice, (1, 2, 3, 0))\n",
        "                mask = input_map_slice == input_map_slice.max((0, 1))\n",
        "                mask = np.transpose(mask, (3, 2, 0, 1))\n",
        "                d_input_map[:, vertical_start: vertical_end, horizontal_start: horizontal_end, :] += np.transpose(np.multiply(d_output_map[:, height, width, :][:, :, np.newaxis, np.newaxis], mask), (0, 2, 3, 1))\n",
        "        self.input_map = None\n",
        "        return d_input_map"
      ]
    },
    {
      "cell_type": "markdown",
      "metadata": {
        "id": "gJSdtNvKWMzS"
      },
      "source": [
        "#### Fully Connected Layer"
      ]
    },
    {
      "cell_type": "code",
      "execution_count": null,
      "metadata": {
        "id": "zAk8gNm8WO0E"
      },
      "outputs": [],
      "source": [
        "class FC_Layer:\n",
        "    def __init__(self, weight_shape, sigma = 0.1, bias_factor = 0.01):\n",
        "        self.weight, self.bias = initialise(weight_shape, sigma, bias_factor)\n",
        "\n",
        "    def forward_propagation(self, input_array):\n",
        "        self.input_array = input_array\n",
        "        return np.matmul(input_array, self.weight) + self.bias\n",
        "\n",
        "    def back_propagation(self, d_output_array, learning_rate):\n",
        "        d_input_array = np.matmul(d_output_array, self.weight.T)\n",
        "        d_weight = np.matmul(self.input_array.T, d_output_array)\n",
        "        d_bias = np.sum(d_output_array.T, axis = 1)\n",
        "        self.weight -= learning_rate * d_weight\n",
        "        self.bias -= learning_rate * d_bias\n",
        "        self.input_array = None\n",
        "        return d_input_array"
      ]
    },
    {
      "cell_type": "markdown",
      "metadata": {
        "id": "AZmZ6RoyWRRE"
      },
      "source": [
        "#### Fully Connected Output Layer"
      ]
    },
    {
      "cell_type": "code",
      "execution_count": null,
      "metadata": {
        "id": "tPV95GfcWTIC"
      },
      "outputs": [],
      "source": [
        "class FC_Output_Layer:\n",
        "    def __init__(self, weight_shape, sigma = 0.1, bias_factor = 0.01):\n",
        "        self.weight, self.bias = initialise(weight_shape, sigma, bias_factor)\n",
        "    \n",
        "    def forward_propagation(self, input_array, labels, mode):\n",
        "        self.input_array = input_array\n",
        "        self.labels = labels\n",
        "        self.output_array = np.matmul(input_array, self.weight) + self.bias\n",
        "        output = softmax(self.output_array)\n",
        "        predictions = np.argmax(output, axis = 1)\n",
        "        if mode == \"train\":\n",
        "            cost_value = -np.log(output[range(output.shape[0]), labels])\n",
        "            return np.sum(cost_value)\n",
        "        elif mode == \"test\":\n",
        "            acc = np.sum(labels == predictions)\n",
        "            return acc, predictions\n",
        "    \n",
        "    def back_propagation(self, learning_rate):\n",
        "        d_output_array = softmax(self.output_array)\n",
        "        d_output_array[range(d_output_array.shape[0]), self.labels] -= 1\n",
        "        d_output_array = d_output_array / d_output_array.shape[0]\n",
        "        d_input_array = np.matmul(d_output_array, self.weight.T)\n",
        "        d_weight = np.matmul(self.input_array.T, d_output_array)\n",
        "        d_bias = np.sum(d_output_array.T, axis = 1)\n",
        "        self.weight -= learning_rate * d_weight\n",
        "        self.bias -= learning_rate * d_bias\n",
        "        self.input_array, self.labels, self.output_array = None, None, None\n",
        "        return d_input_array"
      ]
    },
    {
      "cell_type": "markdown",
      "metadata": {
        "id": "1SaDTnR0-koQ"
      },
      "source": [
        "## Part 3 : LeNet-5"
      ]
    },
    {
      "cell_type": "code",
      "execution_count": null,
      "metadata": {
        "id": "evmgFvmFR9P-"
      },
      "outputs": [],
      "source": [
        "class LeNet5:\n",
        "    def __init__(self):\n",
        "\n",
        "        kernel_shape = {\"C1\": (5, 5, 3, 6),\n",
        "                        \"C3\": (5, 5, 6, 16),\n",
        "                        \"C5\": (5, 5, 16, 120),\n",
        "                        \"F6\": (120, 84),\n",
        "                        \"F7\": (84, 50)}\n",
        "\n",
        "        self.C1 = Conv_Layer(kernel_shape[\"C1\"], sigma = 0.1, bias_factor = 0.01)\n",
        "        self.Sigmoid1 = Sigmoid_Layer()\n",
        "        self.S2 = MaxPool_Layer()\n",
        "        self.C3 = Conv_Layer(kernel_shape[\"C3\"], sigma = 0.1, bias_factor = 0.01)\n",
        "        self.Sigmoid2 = Sigmoid_Layer()\n",
        "        self.S4 = MaxPool_Layer()\n",
        "        self.C5 = Conv_Layer(kernel_shape[\"C5\"], sigma = 0.1, bias_factor = 0.01)\n",
        "        self.Sigmoid3 = Sigmoid_Layer()\n",
        "        self.F6 = FC_Layer(kernel_shape[\"F6\"], sigma = 0.1, bias_factor = 0.01)\n",
        "        self.Sigmoid4 = Sigmoid_Layer()\n",
        "        self.F7 = FC_Output_Layer(kernel_shape[\"F7\"], sigma = 0.1, bias_factor = 0.01)\n",
        "\n",
        "    def forward_propagation(self, input_image, input_label, mode):\n",
        "        C1_FP = self.C1.forward_propagation(input_image)\n",
        "        Sigmoid1_FP = self.Sigmoid1.forward_propagation(C1_FP)\n",
        "        S2_FP = self.S2.forward_propagation(Sigmoid1_FP)\n",
        "        C3_FP = self.C3.forward_propagation(S2_FP)\n",
        "        Sigmoid2_FP = self.Sigmoid2.forward_propagation(C3_FP)\n",
        "        S4_FP = self.S4.forward_propagation(Sigmoid2_FP)\n",
        "        C5_FP = self.C5.forward_propagation(S4_FP)\n",
        "        Sigmoid3_FP = self.Sigmoid3.forward_propagation(C5_FP)\n",
        "        Sigmoid3_FP = Sigmoid3_FP[:, 0, 0, :]\n",
        "        F6_FP = self.F6.forward_propagation(Sigmoid3_FP)\n",
        "        Sigmoid4_FP = self.Sigmoid4.forward_propagation(F6_FP)\n",
        "        return self.F7.forward_propagation(Sigmoid4_FP, input_label, mode)\n",
        "\n",
        "    def back_propagation(self, learning_rate):\n",
        "        F7_BP = self.F7.back_propagation(learning_rate)\n",
        "        Sigmoid4_BP = self.Sigmoid4.back_propagation(F7_BP)\n",
        "        F6_BP = self.F6.back_propagation(Sigmoid4_BP, learning_rate)\n",
        "        F6_BP = F6_BP[:, np.newaxis, np.newaxis, :]\n",
        "        Sigmoid3_BP = self.Sigmoid3.back_propagation(F6_BP)\n",
        "        C5_BP = self.C5.back_propagation(Sigmoid3_BP, learning_rate)\n",
        "        S4_BP = self.S4.back_propagation(C5_BP)\n",
        "        Sigmoid2_BP = self.Sigmoid2.back_propagation(S4_BP)\n",
        "        C3_BP = self.C3.back_propagation(Sigmoid2_BP, learning_rate)\n",
        "        S2_BP = self.S2.back_propagation(C3_BP)\n",
        "        Sigmoid1_BP = self.Sigmoid1.back_propagation(S2_BP)\n",
        "        self.C1.back_propagation(Sigmoid1_BP, learning_rate)\n",
        "    \n",
        "    def extract_model(self):\n",
        "        temp_model = LeNet5()\n",
        "        temp_model.C1.weight = self.C1.weight\n",
        "        temp_model.C1.bias = self.C1.bias\n",
        "        temp_model.C1.stride = self.C1.stride\n",
        "        temp_model.C1.pad = self.C1.pad\n",
        "        temp_model.S2.stride = self.S2.stride\n",
        "        temp_model.S2.f = self.S2.f\n",
        "        temp_model.C3.weight = self.C3.weight\n",
        "        temp_model.C3.bias = self.C3.bias\n",
        "        temp_model.C3.stride = self.C3.stride\n",
        "        temp_model.C3.pad = self.C3.pad\n",
        "        temp_model.S4.stride = self.S4.stride\n",
        "        temp_model.S4.f = self.S4.f\n",
        "        temp_model.C5.weight = self.C5.weight\n",
        "        temp_model.C5.bias = self.C5.bias\n",
        "        temp_model.C5.stride = self.C5.stride\n",
        "        temp_model.C5.pad = self.C5.pad\n",
        "        temp_model.F6.weight = self.F6.weight\n",
        "        temp_model.F6.bias = self.F6.bias\n",
        "        temp_model.F7.weight = self.F7.weight\n",
        "        temp_model.F7.bias = self.F7.bias\n",
        "        return temp_model"
      ]
    },
    {
      "cell_type": "markdown",
      "metadata": {
        "id": "yuvVzB3BR6bK"
      },
      "source": [
        "## Part 4 : Train"
      ]
    },
    {
      "cell_type": "code",
      "execution_count": null,
      "metadata": {
        "id": "fxe24Bv9SArB"
      },
      "outputs": [],
      "source": [
        "def train(model, train_data, valid_data, epoches, learning_rate_list, batch_size):\n",
        "    # training loops\n",
        "    start_time = time.time()\n",
        "    acc_rate_list = []\n",
        "\n",
        "    for epoch in range(0, epoches):\n",
        "        print(\"---------- epoch\", epoch + 1, \"begin ----------\")\n",
        "        learning_rate = learning_rate_list[epoch]\n",
        "        # print information\n",
        "        print(\"learning rate: {}\".format(learning_rate))\n",
        "        print(\"batch size: {}\".format(batch_size))\n",
        "        # loop over each batch\n",
        "        start_time_epoch = time.time()\n",
        "        cost = 0\n",
        "        mini_batches = random_mini_batches(train_data[0], train_data[1], batch_size)\n",
        "        print(\"Training:\")\n",
        "        for i in tqdm(range(len(mini_batches))):\n",
        "            batch_image, batch_label = mini_batches[i]\n",
        "            loss = model.forward_propagation(batch_image, batch_label, 'train')\n",
        "            cost += loss\n",
        "            model.back_propagation(learning_rate)\n",
        "        print(\"Done, total cost of epoch {}: {}\".format(epoch + 1, cost))\n",
        "        \n",
        "        acc_train, _ = model.forward_propagation(train_data[0], train_data[1], 'test')\n",
        "        acc_valid, _ = model.forward_propagation(valid_data[0], valid_data[1], 'test')\n",
        "\n",
        "\n",
        "        acc_rate_list.append([acc_train / len(train_data[1]), acc_valid / len(valid_data[1])])\n",
        "        print(\"0/1 Accuracy of training set:\", acc_train, \"/\", len(train_data[1]))\n",
        "        print(\"0/1 Accuracy of valid set:\", acc_valid, \"/\", len(valid_data[1]))\n",
        "        print(\"Time used:\", time.time() - start_time_epoch, \"sec\")\n",
        "        print(\"---------- epoch\", epoch + 1, \"end ------------\")\n",
        "        with open(\"/content/drive/MyDrive/DL/HW2/LeNet5_model/lenet5_data_\" + str(epoch + 1) + \".pkl\", \"wb\") as output:\n",
        "            pickle.dump(model.extract_model(), output, pickle.HIGHEST_PROTOCOL)\n",
        "    acc_rate_list = np.array(acc_rate_list).T\n",
        "    print(\"Total time used:\", time.time() - start_time, \"sec\")\n",
        "  \n",
        "    return acc_rate_list"
      ]
    },
    {
      "cell_type": "markdown",
      "metadata": {
        "id": "0x3gOu7hSCIU"
      },
      "source": [
        "## Part 5 : Test"
      ]
    },
    {
      "cell_type": "code",
      "execution_count": null,
      "metadata": {
        "id": "JinTuinqSFmi"
      },
      "outputs": [],
      "source": [
        "def test(model_path, test_data):\n",
        "    # read model\n",
        "    with open(model_path, \"rb\") as model_file:\n",
        "        model = pickle.load(model_file)\n",
        "    print(\"Testing with {}:\".format(model_path))\n",
        "    acc, predictions = model.forward_propagation(test_data[0], test_data[1], \"test\")\n",
        "    print(\"Accuracy of test set:\", acc / len(predictions))\n",
        "\n",
        "    return acc / len(predictions), predictions"
      ]
    },
    {
      "cell_type": "markdown",
      "metadata": {
        "id": "aYxi60N7TBbK"
      },
      "source": [
        "## Part 6 : Train Model and Draw Performance \n"
      ]
    },
    {
      "cell_type": "markdown",
      "source": [
        "### Load data"
      ],
      "metadata": {
        "id": "fUagfBw2mj8k"
      }
    },
    {
      "cell_type": "code",
      "execution_count": null,
      "metadata": {
        "id": "QzmNlMfqA34k"
      },
      "outputs": [],
      "source": [
        "train_data = load_dataset(X_train, train_y)\n",
        "valid_data = load_dataset(X_valid, valid_y)\n",
        "test_data = load_dataset(X_test, test_y)"
      ]
    },
    {
      "cell_type": "markdown",
      "source": [
        "### Setting"
      ],
      "metadata": {
        "id": "wyz3MkQumhrm"
      }
    },
    {
      "cell_type": "code",
      "execution_count": null,
      "metadata": {
        "id": "cKrNHPzDBxrZ"
      },
      "outputs": [],
      "source": [
        "batch_size = 64\n",
        "epoches = 25\n",
        "learning_rate_list = np.array([1e-1] * 5 + [5e-2] * 20 )\n",
        "model = LeNet5()"
      ]
    },
    {
      "cell_type": "markdown",
      "source": [
        "### Train ( can skip )\n",
        "To save time, you can just skip this step, as the pretrained has already been stored in file \"LeNet5_model\""
      ],
      "metadata": {
        "id": "pTUZDZb4mYHA"
      }
    },
    {
      "cell_type": "code",
      "execution_count": null,
      "metadata": {
        "colab": {
          "base_uri": "https://localhost:8080/"
        },
        "id": "36Wm2C7VE6Se",
        "outputId": "b3bb8d6e-841b-465a-b775-4e15cb0cd54b"
      },
      "outputs": [
        {
          "name": "stdout",
          "output_type": "stream",
          "text": [
            "---------- epoch 1 begin ----------\n",
            "learning rate: 0.1\n",
            "batch size: 64\n",
            "Training:\n"
          ]
        },
        {
          "name": "stderr",
          "output_type": "stream",
          "text": [
            "100%|██████████| 990/990 [10:51<00:00,  1.52it/s]\n"
          ]
        },
        {
          "name": "stdout",
          "output_type": "stream",
          "text": [
            "Done, total cost of epoch 1: 248157.6164625489\n",
            "0/1 Accuracy of training set: 1282 / 63325\n",
            "0/1 Accuracy of valid set: 9 / 450\n",
            "Time used: 757.0462439060211 sec\n",
            "---------- epoch 1 end ------------\n",
            "---------- epoch 2 begin ----------\n",
            "learning rate: 0.1\n",
            "batch size: 64\n",
            "Training:\n"
          ]
        },
        {
          "name": "stderr",
          "output_type": "stream",
          "text": [
            "100%|██████████| 990/990 [10:41<00:00,  1.54it/s]\n"
          ]
        },
        {
          "name": "stdout",
          "output_type": "stream",
          "text": [
            "Done, total cost of epoch 2: 247821.06188778515\n",
            "0/1 Accuracy of training set: 1282 / 63325\n",
            "0/1 Accuracy of valid set: 9 / 450\n",
            "Time used: 746.6093266010284 sec\n",
            "---------- epoch 2 end ------------\n",
            "---------- epoch 3 begin ----------\n",
            "learning rate: 0.1\n",
            "batch size: 64\n",
            "Training:\n"
          ]
        },
        {
          "name": "stderr",
          "output_type": "stream",
          "text": [
            "100%|██████████| 990/990 [10:51<00:00,  1.52it/s]\n"
          ]
        },
        {
          "name": "stdout",
          "output_type": "stream",
          "text": [
            "Done, total cost of epoch 3: 246999.1657720732\n",
            "0/1 Accuracy of training set: 2184 / 63325\n",
            "0/1 Accuracy of valid set: 15 / 450\n",
            "Time used: 755.5013358592987 sec\n",
            "---------- epoch 3 end ------------\n",
            "---------- epoch 4 begin ----------\n",
            "learning rate: 0.1\n",
            "batch size: 64\n",
            "Training:\n"
          ]
        },
        {
          "name": "stderr",
          "output_type": "stream",
          "text": [
            "100%|██████████| 990/990 [10:50<00:00,  1.52it/s]\n"
          ]
        },
        {
          "name": "stdout",
          "output_type": "stream",
          "text": [
            "Done, total cost of epoch 4: 242191.58101814621\n",
            "0/1 Accuracy of training set: 3151 / 63325\n",
            "0/1 Accuracy of valid set: 29 / 450\n",
            "Time used: 755.7683756351471 sec\n",
            "---------- epoch 4 end ------------\n",
            "---------- epoch 5 begin ----------\n",
            "learning rate: 0.1\n",
            "batch size: 64\n",
            "Training:\n"
          ]
        },
        {
          "name": "stderr",
          "output_type": "stream",
          "text": [
            "100%|██████████| 990/990 [10:43<00:00,  1.54it/s]\n"
          ]
        },
        {
          "name": "stdout",
          "output_type": "stream",
          "text": [
            "Done, total cost of epoch 5: 236190.22026595307\n",
            "0/1 Accuracy of training set: 3437 / 63325\n",
            "0/1 Accuracy of valid set: 27 / 450\n",
            "Time used: 748.1883518695831 sec\n",
            "---------- epoch 5 end ------------\n",
            "---------- epoch 6 begin ----------\n",
            "learning rate: 0.05\n",
            "batch size: 64\n",
            "Training:\n"
          ]
        },
        {
          "name": "stderr",
          "output_type": "stream",
          "text": [
            "100%|██████████| 990/990 [10:42<00:00,  1.54it/s]\n"
          ]
        },
        {
          "name": "stdout",
          "output_type": "stream",
          "text": [
            "Done, total cost of epoch 6: 233450.9665083418\n",
            "0/1 Accuracy of training set: 3498 / 63325\n",
            "0/1 Accuracy of valid set: 32 / 450\n",
            "Time used: 751.685661315918 sec\n",
            "---------- epoch 6 end ------------\n",
            "---------- epoch 7 begin ----------\n",
            "learning rate: 0.05\n",
            "batch size: 64\n",
            "Training:\n"
          ]
        },
        {
          "name": "stderr",
          "output_type": "stream",
          "text": [
            "100%|██████████| 990/990 [11:00<00:00,  1.50it/s]\n"
          ]
        },
        {
          "name": "stdout",
          "output_type": "stream",
          "text": [
            "Done, total cost of epoch 7: 232218.4198813026\n",
            "0/1 Accuracy of training set: 3968 / 63325\n",
            "0/1 Accuracy of valid set: 23 / 450\n",
            "Time used: 770.3348398208618 sec\n",
            "---------- epoch 7 end ------------\n",
            "---------- epoch 8 begin ----------\n",
            "learning rate: 0.05\n",
            "batch size: 64\n",
            "Training:\n"
          ]
        },
        {
          "name": "stderr",
          "output_type": "stream",
          "text": [
            "100%|██████████| 990/990 [10:54<00:00,  1.51it/s]\n"
          ]
        },
        {
          "name": "stdout",
          "output_type": "stream",
          "text": [
            "Done, total cost of epoch 8: 231284.94558514957\n",
            "0/1 Accuracy of training set: 4073 / 63325\n",
            "0/1 Accuracy of valid set: 31 / 450\n",
            "Time used: 763.1535737514496 sec\n",
            "---------- epoch 8 end ------------\n",
            "---------- epoch 9 begin ----------\n",
            "learning rate: 0.05\n",
            "batch size: 64\n",
            "Training:\n"
          ]
        },
        {
          "name": "stderr",
          "output_type": "stream",
          "text": [
            "100%|██████████| 990/990 [10:44<00:00,  1.53it/s]\n"
          ]
        },
        {
          "name": "stdout",
          "output_type": "stream",
          "text": [
            "Done, total cost of epoch 9: 230224.37714461613\n",
            "0/1 Accuracy of training set: 4235 / 63325\n",
            "0/1 Accuracy of valid set: 32 / 450\n",
            "Time used: 754.388914346695 sec\n",
            "---------- epoch 9 end ------------\n",
            "---------- epoch 10 begin ----------\n",
            "learning rate: 0.05\n",
            "batch size: 64\n",
            "Training:\n"
          ]
        },
        {
          "name": "stderr",
          "output_type": "stream",
          "text": [
            "100%|██████████| 990/990 [11:02<00:00,  1.50it/s]\n"
          ]
        },
        {
          "name": "stdout",
          "output_type": "stream",
          "text": [
            "Done, total cost of epoch 10: 229005.0205068109\n",
            "0/1 Accuracy of training set: 4474 / 63325\n",
            "0/1 Accuracy of valid set: 32 / 450\n",
            "Time used: 771.0791573524475 sec\n",
            "---------- epoch 10 end ------------\n",
            "---------- epoch 11 begin ----------\n",
            "learning rate: 0.05\n",
            "batch size: 64\n",
            "Training:\n"
          ]
        },
        {
          "name": "stderr",
          "output_type": "stream",
          "text": [
            "100%|██████████| 990/990 [10:51<00:00,  1.52it/s]\n"
          ]
        },
        {
          "name": "stdout",
          "output_type": "stream",
          "text": [
            "Done, total cost of epoch 11: 227730.78308472608\n",
            "0/1 Accuracy of training set: 4680 / 63325\n",
            "0/1 Accuracy of valid set: 41 / 450\n",
            "Time used: 764.5002663135529 sec\n",
            "---------- epoch 11 end ------------\n",
            "---------- epoch 12 begin ----------\n",
            "learning rate: 0.05\n",
            "batch size: 64\n",
            "Training:\n"
          ]
        },
        {
          "name": "stderr",
          "output_type": "stream",
          "text": [
            "100%|██████████| 990/990 [11:26<00:00,  1.44it/s]\n"
          ]
        },
        {
          "name": "stdout",
          "output_type": "stream",
          "text": [
            "Done, total cost of epoch 12: 226509.25769685453\n",
            "0/1 Accuracy of training set: 4797 / 63325\n",
            "0/1 Accuracy of valid set: 33 / 450\n",
            "Time used: 818.1202971935272 sec\n",
            "---------- epoch 12 end ------------\n",
            "---------- epoch 13 begin ----------\n",
            "learning rate: 0.05\n",
            "batch size: 64\n",
            "Training:\n"
          ]
        },
        {
          "name": "stderr",
          "output_type": "stream",
          "text": [
            "100%|██████████| 990/990 [11:15<00:00,  1.46it/s]\n"
          ]
        },
        {
          "name": "stdout",
          "output_type": "stream",
          "text": [
            "Done, total cost of epoch 13: 225451.97968676803\n",
            "0/1 Accuracy of training set: 4947 / 63325\n",
            "0/1 Accuracy of valid set: 48 / 450\n",
            "Time used: 794.4610524177551 sec\n",
            "---------- epoch 13 end ------------\n",
            "---------- epoch 14 begin ----------\n",
            "learning rate: 0.05\n",
            "batch size: 64\n",
            "Training:\n"
          ]
        },
        {
          "name": "stderr",
          "output_type": "stream",
          "text": [
            "100%|██████████| 990/990 [11:03<00:00,  1.49it/s]\n"
          ]
        },
        {
          "name": "stdout",
          "output_type": "stream",
          "text": [
            "Done, total cost of epoch 14: 224516.05537292242\n",
            "0/1 Accuracy of training set: 5155 / 63325\n",
            "0/1 Accuracy of valid set: 38 / 450\n",
            "Time used: 774.3074235916138 sec\n",
            "---------- epoch 14 end ------------\n",
            "---------- epoch 15 begin ----------\n",
            "learning rate: 0.05\n",
            "batch size: 64\n",
            "Training:\n"
          ]
        },
        {
          "name": "stderr",
          "output_type": "stream",
          "text": [
            "100%|██████████| 990/990 [10:43<00:00,  1.54it/s]\n"
          ]
        },
        {
          "name": "stdout",
          "output_type": "stream",
          "text": [
            "Done, total cost of epoch 15: 223677.49541739636\n",
            "0/1 Accuracy of training set: 5184 / 63325\n",
            "0/1 Accuracy of valid set: 37 / 450\n",
            "Time used: 750.2325501441956 sec\n",
            "---------- epoch 15 end ------------\n",
            "---------- epoch 16 begin ----------\n",
            "learning rate: 0.05\n",
            "batch size: 64\n",
            "Training:\n"
          ]
        },
        {
          "name": "stderr",
          "output_type": "stream",
          "text": [
            "100%|██████████| 990/990 [10:42<00:00,  1.54it/s]\n"
          ]
        },
        {
          "name": "stdout",
          "output_type": "stream",
          "text": [
            "Done, total cost of epoch 16: 222814.80095971315\n",
            "0/1 Accuracy of training set: 5703 / 63325\n",
            "0/1 Accuracy of valid set: 40 / 450\n",
            "Time used: 774.1383686065674 sec\n",
            "---------- epoch 16 end ------------\n",
            "---------- epoch 17 begin ----------\n",
            "learning rate: 0.05\n",
            "batch size: 64\n",
            "Training:\n"
          ]
        },
        {
          "name": "stderr",
          "output_type": "stream",
          "text": [
            "100%|██████████| 990/990 [10:50<00:00,  1.52it/s]\n"
          ]
        },
        {
          "name": "stdout",
          "output_type": "stream",
          "text": [
            "Done, total cost of epoch 17: 221933.26639176195\n",
            "0/1 Accuracy of training set: 5584 / 63325\n",
            "0/1 Accuracy of valid set: 40 / 450\n",
            "Time used: 758.5114352703094 sec\n",
            "---------- epoch 17 end ------------\n",
            "---------- epoch 18 begin ----------\n",
            "learning rate: 0.05\n",
            "batch size: 64\n",
            "Training:\n"
          ]
        },
        {
          "name": "stderr",
          "output_type": "stream",
          "text": [
            "100%|██████████| 990/990 [10:47<00:00,  1.53it/s]\n"
          ]
        },
        {
          "name": "stdout",
          "output_type": "stream",
          "text": [
            "Done, total cost of epoch 18: 220970.2515385358\n",
            "0/1 Accuracy of training set: 5992 / 63325\n",
            "0/1 Accuracy of valid set: 43 / 450\n",
            "Time used: 755.3582146167755 sec\n",
            "---------- epoch 18 end ------------\n",
            "---------- epoch 19 begin ----------\n",
            "learning rate: 0.05\n",
            "batch size: 64\n",
            "Training:\n"
          ]
        },
        {
          "name": "stderr",
          "output_type": "stream",
          "text": [
            "100%|██████████| 990/990 [10:54<00:00,  1.51it/s]\n"
          ]
        },
        {
          "name": "stdout",
          "output_type": "stream",
          "text": [
            "Done, total cost of epoch 19: 219867.03021616142\n",
            "0/1 Accuracy of training set: 6157 / 63325\n",
            "0/1 Accuracy of valid set: 39 / 450\n",
            "Time used: 767.4880352020264 sec\n",
            "---------- epoch 19 end ------------\n",
            "---------- epoch 20 begin ----------\n",
            "learning rate: 0.05\n",
            "batch size: 64\n",
            "Training:\n"
          ]
        },
        {
          "name": "stderr",
          "output_type": "stream",
          "text": [
            "100%|██████████| 990/990 [10:53<00:00,  1.52it/s]\n"
          ]
        },
        {
          "name": "stdout",
          "output_type": "stream",
          "text": [
            "Done, total cost of epoch 20: 218496.59095585498\n",
            "0/1 Accuracy of training set: 6696 / 63325\n",
            "0/1 Accuracy of valid set: 49 / 450\n",
            "Time used: 764.1873927116394 sec\n",
            "---------- epoch 20 end ------------\n",
            "---------- epoch 21 begin ----------\n",
            "learning rate: 0.05\n",
            "batch size: 64\n",
            "Training:\n"
          ]
        },
        {
          "name": "stderr",
          "output_type": "stream",
          "text": [
            "100%|██████████| 990/990 [10:51<00:00,  1.52it/s]\n"
          ]
        },
        {
          "name": "stdout",
          "output_type": "stream",
          "text": [
            "Done, total cost of epoch 21: 216578.9102237022\n",
            "0/1 Accuracy of training set: 7000 / 63325\n",
            "0/1 Accuracy of valid set: 54 / 450\n",
            "Time used: 762.9925825595856 sec\n",
            "---------- epoch 21 end ------------\n",
            "---------- epoch 22 begin ----------\n",
            "learning rate: 0.05\n",
            "batch size: 64\n",
            "Training:\n"
          ]
        },
        {
          "name": "stderr",
          "output_type": "stream",
          "text": [
            "100%|██████████| 990/990 [11:03<00:00,  1.49it/s]\n"
          ]
        },
        {
          "name": "stdout",
          "output_type": "stream",
          "text": [
            "Done, total cost of epoch 22: 213769.226344137\n",
            "0/1 Accuracy of training set: 7412 / 63325\n",
            "0/1 Accuracy of valid set: 53 / 450\n",
            "Time used: 772.0805003643036 sec\n",
            "---------- epoch 22 end ------------\n",
            "---------- epoch 23 begin ----------\n",
            "learning rate: 0.05\n",
            "batch size: 64\n",
            "Training:\n"
          ]
        },
        {
          "name": "stderr",
          "output_type": "stream",
          "text": [
            "100%|██████████| 990/990 [11:16<00:00,  1.46it/s]\n"
          ]
        },
        {
          "name": "stdout",
          "output_type": "stream",
          "text": [
            "Done, total cost of epoch 23: 210937.46816785802\n",
            "0/1 Accuracy of training set: 8156 / 63325\n",
            "0/1 Accuracy of valid set: 56 / 450\n",
            "Time used: 802.4368741512299 sec\n",
            "---------- epoch 23 end ------------\n",
            "---------- epoch 24 begin ----------\n",
            "learning rate: 0.05\n",
            "batch size: 64\n",
            "Training:\n"
          ]
        },
        {
          "name": "stderr",
          "output_type": "stream",
          "text": [
            "100%|██████████| 990/990 [11:46<00:00,  1.40it/s]\n"
          ]
        },
        {
          "name": "stdout",
          "output_type": "stream",
          "text": [
            "Done, total cost of epoch 24: 208781.62508127943\n",
            "0/1 Accuracy of training set: 8516 / 63325\n",
            "0/1 Accuracy of valid set: 69 / 450\n",
            "Time used: 867.3505330085754 sec\n",
            "---------- epoch 24 end ------------\n",
            "---------- epoch 25 begin ----------\n",
            "learning rate: 0.05\n",
            "batch size: 64\n",
            "Training:\n"
          ]
        },
        {
          "name": "stderr",
          "output_type": "stream",
          "text": [
            "100%|██████████| 990/990 [13:22<00:00,  1.23it/s]\n"
          ]
        },
        {
          "name": "stdout",
          "output_type": "stream",
          "text": [
            "Done, total cost of epoch 25: 206912.92967242486\n",
            "0/1 Accuracy of training set: 8773 / 63325\n",
            "0/1 Accuracy of valid set: 63 / 450\n",
            "Time used: 959.5645823478699 sec\n",
            "---------- epoch 25 end ------------\n",
            "Total time used: 19460.495794057846 sec\n"
          ]
        }
      ],
      "source": [
        "# Training\n",
        "acc_list = train(model, train_data, valid_data, epoches, learning_rate_list, batch_size)"
      ]
    },
    {
      "cell_type": "code",
      "execution_count": null,
      "metadata": {
        "colab": {
          "base_uri": "https://localhost:8080/",
          "height": 455
        },
        "id": "edSFOz6aCDze",
        "outputId": "72a0c12f-35f1-489b-aec6-85b230ebcf6c"
      },
      "outputs": [
        {
          "data": {
            "image/png": "[encoded data removed]",
            "text/plain": [
              "<Figure size 640x480 with 1 Axes>"
            ]
          },
          "metadata": {},
          "output_type": "display_data"
        }
      ],
      "source": [
        "x = np.arange(1, epoches + 1)\n",
        "plt.xlabel(\"epoches\")\n",
        "plt.ylabel(\"Accuracy\")\n",
        "plt.plot(x, acc_list[0])\n",
        "plt.plot(x, acc_list[1])\n",
        "plt.grid(True)\n",
        "plt.legend([\"Training data\", \"Validaton data\"], loc = \"upper left\")\n",
        "plt.savefig(\"/content/drive/MyDrive/DL/HW2/LeNet5_model/LeNet5_accuracy.png\")\n",
        "plt.show()"
      ]
    },
    {
      "cell_type": "markdown",
      "metadata": {
        "id": "3spYacNMniNi"
      },
      "source": [
        "**Save accuracy result (can skip)**"
      ]
    },
    {
      "cell_type": "code",
      "execution_count": null,
      "metadata": {
        "id": "9ScFTLbzl_bX"
      },
      "outputs": [],
      "source": [
        "# save them to a file\n",
        "np.savez(\"/content/drive/MyDrive/DL/HW2/LeNet5_model/acc_list.npz\", train_acc=acc_list[0], valid_acc=acc_list[1])"
      ]
    },
    {
      "cell_type": "markdown",
      "metadata": {
        "id": "FmmtuGT_58wg"
      },
      "source": [
        "## Part 7 : Result"
      ]
    },
    {
      "cell_type": "markdown",
      "metadata": {
        "id": "vZOpJPGFpjbZ"
      },
      "source": [
        "**Load train and valid accuracy**"
      ]
    },
    {
      "cell_type": "code",
      "execution_count": null,
      "metadata": {
        "id": "sE394NXjpiuZ"
      },
      "outputs": [],
      "source": [
        "with np.load(\"/content/drive/MyDrive/DL/HW2/LeNet5_model/acc_list.npz\") as data:\n",
        "    acc_train = data[\"train_acc\"]\n",
        "    acc_valid = data[\"valid_acc\"]"
      ]
    },
    {
      "cell_type": "code",
      "execution_count": null,
      "metadata": {
        "id": "9F6WNIcf6B5A"
      },
      "outputs": [],
      "source": [
        "def answer(test_y, test_y_pred, data_name, output_name):\n",
        "  df = np.column_stack((test_y, test_y_pred))\n",
        "  test_result = pd.DataFrame(df, index=data_name, columns=['Answer','Prediction'])\n",
        "  test_result.to_csv('/content/drive/MyDrive/DL/HW2/LeNet5_model/' + output_name + '_test_result.csv')\n",
        "  return test_result"
      ]
    },
    {
      "cell_type": "markdown",
      "metadata": {
        "id": "T5E12cur7Csb"
      },
      "source": [
        "**Test**"
      ]
    },
    {
      "cell_type": "code",
      "execution_count": null,
      "metadata": {
        "colab": {
          "base_uri": "https://localhost:8080/"
        },
        "id": "ieB5TbEl7UwR",
        "outputId": "dde38d12-fb52-49f0-8c2b-89e2304e602f"
      },
      "outputs": [
        {
          "output_type": "stream",
          "name": "stdout",
          "text": [
            "Testing with /content/drive/MyDrive/DL/HW2/LeNet5_model/lenet5_data_24.pkl:\n",
            "Accuracy of test set: 0.14444444444444443\n"
          ]
        }
      ],
      "source": [
        "LeNet5_test_acc, LeNet5_y_pred = test(\"/content/drive/MyDrive/DL/HW2/LeNet5_model/lenet5_data_\" + str(acc_valid.argmax() + 1) + \".pkl\", test_data)"
      ]
    },
    {
      "cell_type": "code",
      "execution_count": null,
      "metadata": {
        "colab": {
          "base_uri": "https://localhost:8080/"
        },
        "id": "GfqTiUpdlWvE",
        "outputId": "11a4c305-46e3-42fe-e11b-8ec2e4e6e7da"
      },
      "outputs": [
        {
          "output_type": "execute_result",
          "data": {
            "text/plain": [
              "0.1444"
            ]
          },
          "metadata": {},
          "execution_count": 26
        }
      ],
      "source": [
        "# Test accuracy\n",
        "LeNet5_test_acc = round(LeNet5_test_acc,4)\n",
        "LeNet5_test_acc"
      ]
    },
    {
      "cell_type": "code",
      "execution_count": null,
      "metadata": {
        "colab": {
          "base_uri": "https://localhost:8080/",
          "height": 423
        },
        "id": "KluHYI2-7vtP",
        "outputId": "030bf536-5844-43c7-c4cc-d48add336966"
      },
      "outputs": [
        {
          "output_type": "execute_result",
          "data": {
            "text/plain": [
              "                                      Answer  Prediction\n",
              "images/n02111277/n02111277_9420.JPEG       0          48\n",
              "images/n02111277/n02111277_9422.JPEG       0          32\n",
              "images/n02111277/n02111277_9484.JPEG       0          41\n",
              "images/n02111277/n02111277_951.JPEG        0          41\n",
              "images/n02111277/n02111277_9518.JPEG       0          46\n",
              "...                                      ...         ...\n",
              "images/n02172182/n02172182_974.JPEG       49          44\n",
              "images/n02172182/n02172182_9765.JPEG      49          34\n",
              "images/n02172182/n02172182_9789.JPEG      49          49\n",
              "images/n02172182/n02172182_98.JPEG        49          41\n",
              "images/n02172182/n02172182_981.JPEG       49          41\n",
              "\n",
              "[450 rows x 2 columns]"
            ],
            "text/html": [
              "\n",
              "  <div id=\"df-50c9a555-c4b1-4d7c-81a0-a827bb305b04\">\n",
              "    <div class=\"colab-df-container\">\n",
              "      <div>\n",
              "<style scoped>\n",
              "    .dataframe tbody tr th:only-of-type {\n",
              "        vertical-align: middle;\n",
              "    }\n",
              "\n",
              "    .dataframe tbody tr th {\n",
              "        vertical-align: top;\n",
              "    }\n",
              "\n",
              "    .dataframe thead th {\n",
              "        text-align: right;\n",
              "    }\n",
              "</style>\n",
              "<table border=\"1\" class=\"dataframe\">\n",
              "  <thead>\n",
              "    <tr style=\"text-align: right;\">\n",
              "      <th></th>\n",
              "      <th>Answer</th>\n",
              "      <th>Prediction</th>\n",
              "    </tr>\n",
              "  </thead>\n",
              "  <tbody>\n",
              "    <tr>\n",
              "      <th>images/n02111277/n02111277_9420.JPEG</th>\n",
              "      <td>0</td>\n",
              "      <td>48</td>\n",
              "    </tr>\n",
              "    <tr>\n",
              "      <th>images/n02111277/n02111277_9422.JPEG</th>\n",
              "      <td>0</td>\n",
              "      <td>32</td>\n",
              "    </tr>\n",
              "    <tr>\n",
              "      <th>images/n02111277/n02111277_9484.JPEG</th>\n",
              "      <td>0</td>\n",
              "      <td>41</td>\n",
              "    </tr>\n",
              "    <tr>\n",
              "      <th>images/n02111277/n02111277_951.JPEG</th>\n",
              "      <td>0</td>\n",
              "      <td>41</td>\n",
              "    </tr>\n",
              "    <tr>\n",
              "      <th>images/n02111277/n02111277_9518.JPEG</th>\n",
              "      <td>0</td>\n",
              "      <td>46</td>\n",
              "    </tr>\n",
              "    <tr>\n",
              "      <th>...</th>\n",
              "      <td>...</td>\n",
              "      <td>...</td>\n",
              "    </tr>\n",
              "    <tr>\n",
              "      <th>images/n02172182/n02172182_974.JPEG</th>\n",
              "      <td>49</td>\n",
              "      <td>44</td>\n",
              "    </tr>\n",
              "    <tr>\n",
              "      <th>images/n02172182/n02172182_9765.JPEG</th>\n",
              "      <td>49</td>\n",
              "      <td>34</td>\n",
              "    </tr>\n",
              "    <tr>\n",
              "      <th>images/n02172182/n02172182_9789.JPEG</th>\n",
              "      <td>49</td>\n",
              "      <td>49</td>\n",
              "    </tr>\n",
              "    <tr>\n",
              "      <th>images/n02172182/n02172182_98.JPEG</th>\n",
              "      <td>49</td>\n",
              "      <td>41</td>\n",
              "    </tr>\n",
              "    <tr>\n",
              "      <th>images/n02172182/n02172182_981.JPEG</th>\n",
              "      <td>49</td>\n",
              "      <td>41</td>\n",
              "    </tr>\n",
              "  </tbody>\n",
              "</table>\n",
              "<p>450 rows × 2 columns</p>\n",
              "</div>\n",
              "      <button class=\"colab-df-convert\" onclick=\"convertToInteractive('df-50c9a555-c4b1-4d7c-81a0-a827bb305b04')\"\n",
              "              title=\"Convert this dataframe to an interactive table.\"\n",
              "              style=\"display:none;\">\n",
              "        \n",
              "  <svg xmlns=\"http://www.w3.org/2000/svg\" height=\"24px\"viewBox=\"0 0 24 24\"\n",
              "       width=\"24px\">\n",
              "    <path d=\"M0 0h24v24H0V0z\" fill=\"none\"/>\n",
              "    <path d=\"M18.56 5.44l.94 2.06.94-2.06 2.06-.94-2.06-.94-.94-2.06-.94 2.06-2.06.94zm-11 1L8.5 8.5l.94-2.06 2.06-.94-2.06-.94L8.5 2.5l-.94 2.06-2.06.94zm10 10l.94 2.06.94-2.06 2.06-.94-2.06-.94-.94-2.06-.94 2.06-2.06.94z\"/><path d=\"M17.41 7.96l-1.37-1.37c-.4-.4-.92-.59-1.43-.59-.52 0-1.04.2-1.43.59L10.3 9.45l-7.72 7.72c-.78.78-.78 2.05 0 2.83L4 21.41c.39.39.9.59 1.41.59.51 0 1.02-.2 1.41-.59l7.78-7.78 2.81-2.81c.8-.78.8-2.07 0-2.86zM5.41 20L4 18.59l7.72-7.72 1.47 1.35L5.41 20z\"/>\n",
              "  </svg>\n",
              "      </button>\n",
              "      \n",
              "  <style>\n",
              "    .colab-df-container {\n",
              "      display:flex;\n",
              "      flex-wrap:wrap;\n",
              "      gap: 12px;\n",
              "    }\n",
              "\n",
              "    .colab-df-convert {\n",
              "      background-color: #E8F0FE;\n",
              "      border: none;\n",
              "      border-radius: 50%;\n",
              "      cursor: pointer;\n",
              "      display: none;\n",
              "      fill: #1967D2;\n",
              "      height: 32px;\n",
              "      padding: 0 0 0 0;\n",
              "      width: 32px;\n",
              "    }\n",
              "\n",
              "    .colab-df-convert:hover {\n",
              "      background-color: #E2EBFA;\n",
              "      box-shadow: 0px 1px 2px rgba(60, 64, 67, 0.3), 0px 1px 3px 1px rgba(60, 64, 67, 0.15);\n",
              "      fill: #174EA6;\n",
              "    }\n",
              "\n",
              "    [theme=dark] .colab-df-convert {\n",
              "      background-color: #3B4455;\n",
              "      fill: #D2E3FC;\n",
              "    }\n",
              "\n",
              "    [theme=dark] .colab-df-convert:hover {\n",
              "      background-color: #434B5C;\n",
              "      box-shadow: 0px 1px 3px 1px rgba(0, 0, 0, 0.15);\n",
              "      filter: drop-shadow(0px 1px 2px rgba(0, 0, 0, 0.3));\n",
              "      fill: #FFFFFF;\n",
              "    }\n",
              "  </style>\n",
              "\n",
              "      <script>\n",
              "        const buttonEl =\n",
              "          document.querySelector('#df-50c9a555-c4b1-4d7c-81a0-a827bb305b04 button.colab-df-convert');\n",
              "        buttonEl.style.display =\n",
              "          google.colab.kernel.accessAllowed ? 'block' : 'none';\n",
              "\n",
              "        async function convertToInteractive(key) {\n",
              "          const element = document.querySelector('#df-50c9a555-c4b1-4d7c-81a0-a827bb305b04');\n",
              "          const dataTable =\n",
              "            await google.colab.kernel.invokeFunction('convertToInteractive',\n",
              "                                                     [key], {});\n",
              "          if (!dataTable) return;\n",
              "\n",
              "          const docLinkHtml = 'Like what you see? Visit the ' +\n",
              "            '<a target=\"_blank\" href=https://colab.research.google.com/notebooks/data_table.ipynb>data table notebook</a>'\n",
              "            + ' to learn more about interactive tables.';\n",
              "          element.innerHTML = '';\n",
              "          dataTable['output_type'] = 'display_data';\n",
              "          await google.colab.output.renderOutput(dataTable, element);\n",
              "          const docLink = document.createElement('div');\n",
              "          docLink.innerHTML = docLinkHtml;\n",
              "          element.appendChild(docLink);\n",
              "        }\n",
              "      </script>\n",
              "    </div>\n",
              "  </div>\n",
              "  "
            ]
          },
          "metadata": {},
          "execution_count": 27
        }
      ],
      "source": [
        "output_name = 'LeNet5'\n",
        "LeNet5_answer = answer(test_y, LeNet5_y_pred, test_dir, output_name)\n",
        "LeNet5_answer"
      ]
    },
    {
      "cell_type": "markdown",
      "metadata": {
        "id": "ZnCrBZSRTHYE"
      },
      "source": [
        "# Improved LeNet-5 "
      ]
    },
    {
      "cell_type": "markdown",
      "metadata": {
        "id": "BVF2wME8bhhV"
      },
      "source": [
        "**Please follow the operations to modify naive LeNet.**\n",
        "\n",
        "*   Activation function: x = Sigmoid(x) ==> x = x*sigmoid(x)\n",
        "*   Kernel size: 5x5 ==> 3x3\n",
        "*   Increase one convolution layer to LeNet5 (any position)\n",
        "\n",
        "\n"
      ]
    },
    {
      "cell_type": "markdown",
      "metadata": {
        "id": "TYMU9-Srf7s4"
      },
      "source": [
        "## Part 1 : CNN Layer"
      ]
    },
    {
      "cell_type": "markdown",
      "metadata": {
        "id": "sHIrF-n_gO0r"
      },
      "source": [
        "### Improved Sigmoid Activation Layer\n",
        "\n",
        "Activation function: x = Sigmoid(x) ==> x = x*sigmoid(x)"
      ]
    },
    {
      "cell_type": "code",
      "execution_count": null,
      "metadata": {
        "id": "YF6oMMC2bgRg"
      },
      "outputs": [],
      "source": [
        "class X_Sigmoid_Layer:\n",
        "    def forward_propagation(self, input_map):\n",
        "        self.input_map = input_map\n",
        "        self.sigmoid = 1 / (1 + np.exp(-input_map))\n",
        "        self.output_map = input_map * self.sigmoid\n",
        "        return self.output_map\n",
        "\n",
        "    def back_propagation(self, d_output_map):\n",
        "        dsigmoid = self.sigmoid * (1 - self.sigmoid)\n",
        "        d_input_map = np.multiply(d_output_map, (self.sigmoid + np.multiply(self.input_map, dsigmoid)))\n",
        "        self.output_map = None\n",
        "        return d_input_map"
      ]
    },
    {
      "cell_type": "markdown",
      "metadata": {
        "id": "beZgIL1PgH6Z"
      },
      "source": [
        "## Part 2 : Inproved LeNet-5\n",
        "\n",
        "Kernel size: 5x5 ==> 3x3\n",
        "\n",
        "Increase one convolution layer to LeNet5 (any position)"
      ]
    },
    {
      "cell_type": "code",
      "execution_count": null,
      "metadata": {
        "id": "i7Tex9E4gHfA"
      },
      "outputs": [],
      "source": [
        "class Imp_LeNet5:\n",
        "    def __init__(self):\n",
        "\n",
        "        kernel_shape = {\"C1\": (3, 3, 3, 6),\n",
        "                        \"C3\": (3, 3, 6, 16),\n",
        "                        \"C5\": (3, 3, 16, 120),\n",
        "                        \"C6\": (3, 3, 120, 120),\n",
        "                        \"F7\": (120, 84),\n",
        "                        \"F8\": (84, 50)}\n",
        "\n",
        "        self.C1 = Conv_Layer(kernel_shape[\"C1\"], sigma = 0.1, bias_factor = 0.01)\n",
        "        self.Sigmoid1 = X_Sigmoid_Layer()\n",
        "        self.S2 = MaxPool_Layer()\n",
        "        self.C3 = Conv_Layer(kernel_shape[\"C3\"], sigma = 0.1, bias_factor = 0.01)\n",
        "        self.Sigmoid2 = X_Sigmoid_Layer()\n",
        "        self.S4 = MaxPool_Layer()\n",
        "        self.C5 = Conv_Layer(kernel_shape[\"C5\"], sigma = 0.1, bias_factor = 0.01)\n",
        "        self.Sigmoid3 = X_Sigmoid_Layer()\n",
        "        self.C6 = Conv_Layer(kernel_shape[\"C6\"], sigma = 0.1, bias_factor = 0.01)\n",
        "        self.Sigmoid4 = X_Sigmoid_Layer()\n",
        "        self.F7 = FC_Layer(kernel_shape[\"F7\"], sigma = 0.1, bias_factor = 0.01)\n",
        "        self.Sigmoid5 = X_Sigmoid_Layer()\n",
        "        self.F8 = FC_Output_Layer(kernel_shape[\"F8\"], sigma = 0.1, bias_factor = 0.01)\n",
        "\n",
        "    def forward_propagation(self, input_image, input_label, mode):\n",
        "        C1_FP = self.C1.forward_propagation(input_image)\n",
        "        Sigmoid1_FP = self.Sigmoid1.forward_propagation(C1_FP)\n",
        "        S2_FP = self.S2.forward_propagation(Sigmoid1_FP)\n",
        "        C3_FP = self.C3.forward_propagation(S2_FP)\n",
        "        Sigmoid2_FP = self.Sigmoid2.forward_propagation(C3_FP)\n",
        "        S4_FP = self.S4.forward_propagation(Sigmoid2_FP)\n",
        "        C5_FP = self.C5.forward_propagation(S4_FP)\n",
        "        Sigmoid3_FP = self.Sigmoid3.forward_propagation(C5_FP)\n",
        "        C6_FP = self.C6.forward_propagation(Sigmoid3_FP)\n",
        "        Sigmoid4_FP = self.Sigmoid4.forward_propagation(C6_FP)\n",
        "        Sigmoid4_FP = Sigmoid4_FP[:, 0, 0, :]\n",
        "        F7_FP = self.F7.forward_propagation(Sigmoid4_FP)\n",
        "        Sigmoid5_FP = self.Sigmoid5.forward_propagation(F7_FP)\n",
        "        return self.F8.forward_propagation(Sigmoid5_FP, input_label, mode)\n",
        "\n",
        "    def back_propagation(self, learning_rate):\n",
        "        F8_BP = self.F8.back_propagation(learning_rate)\n",
        "        Sigmoid5_BP = self.Sigmoid5.back_propagation(F8_BP)\n",
        "        F7_BP = self.F7.back_propagation(Sigmoid5_BP, learning_rate)\n",
        "        F7_BP = F7_BP[:, np.newaxis, np.newaxis, :]\n",
        "        Sigmoid4_BP = self.Sigmoid4.back_propagation(F7_BP)\n",
        "        C6_BP = self.C6.back_propagation(Sigmoid4_BP, learning_rate)\n",
        "        Sigmoid3_BP = self.Sigmoid3.back_propagation(C6_BP)\n",
        "        C5_BP = self.C5.back_propagation(Sigmoid3_BP, learning_rate)\n",
        "        S4_BP = self.S4.back_propagation(C5_BP)\n",
        "        Sigmoid2_BP = self.Sigmoid2.back_propagation(S4_BP)\n",
        "        C3_BP = self.C3.back_propagation(Sigmoid2_BP, learning_rate)\n",
        "        S2_BP = self.S2.back_propagation(C3_BP)\n",
        "        Sigmoid1_BP = self.Sigmoid1.back_propagation(S2_BP)\n",
        "        self.C1.back_propagation(Sigmoid1_BP, learning_rate)\n",
        "    \n",
        "    def extract_model(self):\n",
        "        temp_model = Imp_LeNet5()\n",
        "        temp_model.C1.weight = self.C1.weight\n",
        "        temp_model.C1.bias = self.C1.bias\n",
        "        temp_model.C1.stride = self.C1.stride\n",
        "        temp_model.C1.pad = self.C1.pad\n",
        "        temp_model.S2.stride = self.S2.stride\n",
        "        temp_model.S2.f = self.S2.f\n",
        "        temp_model.C3.weight = self.C3.weight\n",
        "        temp_model.C3.bias = self.C3.bias\n",
        "        temp_model.C3.stride = self.C3.stride\n",
        "        temp_model.C3.pad = self.C3.pad\n",
        "        temp_model.S4.stride = self.S4.stride\n",
        "        temp_model.S4.f = self.S4.f\n",
        "        temp_model.C5.weight = self.C5.weight\n",
        "        temp_model.C5.bias = self.C5.bias\n",
        "        temp_model.C5.stride = self.C5.stride\n",
        "        temp_model.C5.pad = self.C5.pad\n",
        "        temp_model.C6.weight = self.C6.weight\n",
        "        temp_model.C6.bias = self.C6.bias\n",
        "        temp_model.C6.stride = self.C6.stride\n",
        "        temp_model.C6.pad = self.C6.pad\n",
        "\n",
        "        temp_model.F7.weight = self.F7.weight\n",
        "        temp_model.F7.bias = self.F7.bias\n",
        "        temp_model.F8.weight = self.F8.weight\n",
        "        temp_model.F8.bias = self.F8.bias\n",
        "        return temp_model"
      ]
    },
    {
      "cell_type": "markdown",
      "metadata": {
        "id": "d51g_DmTtnex"
      },
      "source": [
        "## Part 3 : Train"
      ]
    },
    {
      "cell_type": "code",
      "execution_count": null,
      "metadata": {
        "id": "44AgFHAXtrGJ"
      },
      "outputs": [],
      "source": [
        "def improved_train(model, train_data, valid_data, epoches, learning_rate_list, batch_size):\n",
        "    # training loops\n",
        "    start_time = time.time()\n",
        "    acc_rate_list = []\n",
        "\n",
        "    for epoch in range(0, epoches):\n",
        "        print(\"---------- epoch\", epoch + 1, \"begin ----------\")\n",
        "        learning_rate = learning_rate_list[epoch]\n",
        "        # print information\n",
        "        print(\"learning rate: {}\".format(learning_rate))\n",
        "        print(\"batch size: {}\".format(batch_size))\n",
        "        # loop over each batch\n",
        "        start_time_epoch = time.time()\n",
        "        cost = 0\n",
        "        mini_batches = random_mini_batches(train_data[0], train_data[1], batch_size)\n",
        "        print(\"Training:\")\n",
        "        for i in tqdm(range(len(mini_batches))):\n",
        "            batch_image, batch_label = mini_batches[i]\n",
        "            loss = model.forward_propagation(batch_image, batch_label, \"train\")\n",
        "            cost += loss\n",
        "            model.back_propagation(learning_rate)\n",
        "        print(\"Done, total cost of epoch {}: {}\".format(epoch + 1, cost))\n",
        "        \n",
        "        acc_train = model.forward_propagation(train_data[0][0:30000], train_data[1][0:30000], \"test\")[0]\n",
        "        acc_train += model.forward_propagation(train_data[0][30000:len(valid_data[1])], train_data[1][30000:len(valid_data[1])], \"test\")[0]\n",
        "        \n",
        "        acc_valid, _ = model.forward_propagation(valid_data[0], valid_data[1], \"test\")\n",
        "\n",
        "\n",
        "        acc_rate_list.append([acc_train / len(train_data[1]), acc_valid / len(valid_data[1])])\n",
        "        print(\"0/1 Accuracy of training set:\", acc_train, \"/\", len(train_data[1]))\n",
        "        print(\"0/1 Accuracy of valid set:\", acc_valid, \"/\", len(valid_data[1]))\n",
        "        print(\"Time used:\", time.time() - start_time_epoch, \"sec\")\n",
        "        print(\"---------- epoch\", epoch + 1, \"end ------------\")\n",
        "        with open(\"/content/drive/MyDrive/DL/HW2/Improved_LeNet5_model/improved_lenet5_data_\" + str(epoch + 1) + \".pkl\", \"wb\") as output:\n",
        "            pickle.dump(model.extract_model(), output, pickle.HIGHEST_PROTOCOL)\n",
        "    acc_rate_list = np.array(acc_rate_list).T\n",
        "    print(\"Total time used:\", time.time() - start_time, \"sec\")\n",
        "  \n",
        "    return acc_rate_list"
      ]
    },
    {
      "cell_type": "markdown",
      "metadata": {
        "id": "1Mq_0-A3t72G"
      },
      "source": [
        "## Part 4 : Train Model and Draw Performance"
      ]
    },
    {
      "cell_type": "markdown",
      "source": [
        "### Load data"
      ],
      "metadata": {
        "id": "MG0cHOCfm55k"
      }
    },
    {
      "cell_type": "code",
      "execution_count": null,
      "metadata": {
        "id": "_Iaj28Yot_R0"
      },
      "outputs": [],
      "source": [
        "train_data = load_dataset(X_train, train_y)\n",
        "valid_data = load_dataset(X_valid, valid_y)\n",
        "test_data = load_dataset(X_test, test_y)"
      ]
    },
    {
      "cell_type": "markdown",
      "source": [
        "### Setting"
      ],
      "metadata": {
        "id": "HRI1TtuPm71K"
      }
    },
    {
      "cell_type": "code",
      "execution_count": null,
      "metadata": {
        "id": "AiIbP0IF_WFs"
      },
      "outputs": [],
      "source": [
        "batch_size = 64\n",
        "epoches = 25\n",
        "learning_rate_list = np.array([5e-2] * 10 + [1e-2] * 10 + [5e-3] *5 )\n",
        "model2 = Imp_LeNet5()"
      ]
    },
    {
      "cell_type": "markdown",
      "source": [
        "### Train ( can skip )\n",
        "To save time, you can just skip this step, as the pretrained has already been stored in file \"LeNet5_model\""
      ],
      "metadata": {
        "id": "TB7wBsoUm9iL"
      }
    },
    {
      "cell_type": "code",
      "execution_count": null,
      "metadata": {
        "id": "FrQ4lnUp_dGx"
      },
      "outputs": [],
      "source": [
        "# Training\n",
        "acc_list_improved = improved_train(model2, train_data, valid_data, epoches, learning_rate_list, batch_size)"
      ]
    },
    {
      "cell_type": "markdown",
      "source": [
        "---------- epoch 1 begin ----------\n",
        "\n",
        "learning rate: 0.05\n",
        "\n",
        "batch size: 64\n",
        "Training:\n",
        "\n",
        "100%|██████████| 990/990 [11:12<00:00,  1.47it/s]\n",
        "Done, total cost of epoch 1: 223033.4942125653\n",
        "\n",
        "0/1 Accuracy of training set: 2319 / 63325\n",
        "0/1 Accuracy of valid set: 56 / 450\n",
        "\n",
        "Time used: 739.3980846405029 sec\n",
        "\n",
        "---------- epoch 1 end ------------\n",
        "\n",
        "---------- epoch 2 begin ----------\n",
        "\n",
        "learning rate: 0.05\n",
        "\n",
        "batch size: 64\n",
        "\n",
        "Training:\n",
        "\n",
        "100%|██████████| 990/990 [11:02<00:00,  1.49it/s]\n",
        "\n",
        "Done, total cost of epoch 2: 200709.3135282178\n",
        "\n",
        "0/1 Accuracy of training set: 3742 / 63325\n",
        "\n",
        "0/1 Accuracy of valid set: 73 / 450\n",
        "\n",
        "Time used: 719.7081580162048 sec\n",
        "\n",
        "---------- epoch 2 end ------------\n",
        "\n",
        "---------- epoch 3 begin ----------\n",
        "\n",
        "learning rate: 0.05\n",
        "\n",
        "batch size: 64\n",
        "\n",
        "Training:\n",
        "\n",
        "100%|██████████| 990/990 [10:52<00:00,  1.52it/s]\n",
        "\n",
        "Done, total cost of epoch 3: 194008.9616753961\n",
        "\n",
        "0/1 Accuracy of training set: 4237 / 63325\n",
        "\n",
        "0/1 Accuracy of valid set: 72 / 450\n",
        "\n",
        "Time used: 709.3114397525787 sec\n",
        "\n",
        "---------- epoch 3 end ------------\n",
        "\n",
        "---------- epoch 4 begin ----------\n",
        "\n",
        "learning rate: 0.05\n",
        "\n",
        "batch size: 64\n",
        "\n",
        "Training:\n",
        "\n",
        "100%|██████████| 990/990 [10:58<00:00,  1.50it/s]\n",
        "\n",
        "Done, total cost of epoch 4: 190595.66660712837\n",
        "\n",
        "0/1 Accuracy of training set: 4447 / 63325\n",
        "\n",
        "0/1 Accuracy of valid set: 76 / 450\n",
        "\n",
        "Time used: 714.1452429294586 sec\n",
        "\n",
        "---------- epoch 4 end ------------\n",
        "\n",
        "---------- epoch 5 begin ----------\n",
        "\n",
        "learning rate: 0.05\n",
        "\n",
        "batch size: 64\n",
        "\n",
        "Training:\n",
        "\n",
        "100%|██████████| 990/990 [10:59<00:00,  1.50it/s]\n",
        "\n",
        "Done, total cost of epoch 5: 188835.484854239\n",
        "\n",
        "0/1 Accuracy of training set: 4164 / 63325\n",
        "\n",
        "0/1 Accuracy of valid set: 86 / 450\n",
        "\n",
        "Time used: 715.5632126331329 sec\n",
        "\n",
        "---------- epoch 5 end ------------\n",
        "\n",
        "---------- epoch 6 begin ----------\n",
        "\n",
        "learning rate: 0.05\n",
        "\n",
        "\n",
        "batch size: 64\n",
        "Training:\n",
        "\n",
        "100%|██████████| 990/990 [10:55<00:00,  1.51it/s]\n",
        "\n",
        "Done, total cost of epoch 6: 187726.32527337124\n",
        "\n",
        "0/1 Accuracy of training set: 4849 / 63325\n",
        "\n",
        "0/1 Accuracy of valid set: 91 / 450\n",
        "\n",
        "Time used: 712.1568398475647 sec\n",
        "\n",
        "---------- epoch 6 end ------------\n",
        "\n",
        "---------- epoch 7 begin ----------\n",
        "\n",
        "learning rate: 0.05\n",
        "\n",
        "batch size: 64\n",
        "\n",
        "Training:\n",
        "\n",
        "100%|██████████| 990/990 [10:49<00:00,  1.52it/s]\n",
        "\n",
        "Done, total cost of epoch 7: 187588.1302196154\n",
        "\n",
        "0/1 Accuracy of training set: 3182 / 63325\n",
        "\n",
        "0/1 Accuracy of valid set: 68 / 450\n",
        "\n",
        "Time used: 705.1381895542145 sec\n",
        "\n",
        "---------- epoch 7 end ------------\n",
        "\n",
        "---------- epoch 8 begin ----------\n",
        "\n",
        "learning rate: 0.05\n",
        "\n",
        "batch size: 64\n",
        "\n",
        "Training:\n",
        "\n",
        "100%|██████████| 990/990 [08:24<00:00,  1.96it/s]\n",
        "\n",
        "Done, total cost of epoch 8: 188176.77868299742\n",
        "\n",
        "0/1 Accuracy of training set: 3836 / 63325\n",
        "\n",
        "0/1 Accuracy of valid set: 69 / 450\n",
        "\n",
        "Time used: 551.950267791748 sec\n",
        "\n",
        "---------- epoch 8 end ------------\n",
        "\n",
        "---------- epoch 9 begin ----------\n",
        "\n",
        "learning rate: 0.05\n",
        "\n",
        "batch size: 64\n",
        "\n",
        "Training:\n",
        "\n",
        "100%|██████████| 990/990 [07:40<00:00,  2.15it/s]\n",
        "\n",
        "Done, total cost of epoch 9: 188160.7556956853\n",
        "\n",
        "0/1 Accuracy of training set: 4849 / 63325\n",
        "\n",
        "0/1 Accuracy of valid set: 87 / 450\n",
        "\n",
        "Time used: 507.2910006046295 sec\n",
        "\n",
        "---------- epoch 9 end ------------\n",
        "\n",
        "---------- epoch 10 begin ----------\n",
        "\n",
        "learning rate: 0.05\n",
        "\n",
        "batch size: 64\n",
        "\n",
        "Training:\n",
        "\n",
        "100%|██████████| 990/990 [07:33<00:00,  2.19it/s]\n",
        "\n",
        "Done, total cost of epoch 10: 189160.48418759013\n",
        "\n",
        "0/1 Accuracy of training set: 4281 / 63325\n",
        "\n",
        "0/1 Accuracy of valid set: 70 / 450\n",
        "\n",
        "Time used: 498.6952257156372 sec\n",
        "\n",
        "---------- epoch 10 end ------------\n",
        "\n",
        "---------- epoch 11 begin ----------\n",
        "\n",
        "learning rate: 0.01\n",
        "\n",
        "batch size: 64\n",
        "\n",
        "Training:\n",
        "\n",
        "100%|██████████| 990/990 [07:34<00:00,  2.18it/s]\n",
        "\n",
        "Done, total cost of epoch 11: 173032.23354844967\n",
        "\n",
        "0/1 Accuracy of training set: 5820 / 63325\n",
        "\n",
        "0/1 Accuracy of valid set: 107 / 450\n",
        "\n",
        "Time used: 502.44282579421997 sec\n",
        "\n",
        "---------- epoch 11 end ------------\n",
        "\n",
        "---------- epoch 12 begin ----------\n",
        "\n",
        "learning rate: 0.01\n",
        "\n",
        "batch size: 64\n",
        "\n",
        "Training:\n",
        "\n",
        "100%|██████████| 990/990 [07:38<00:00,  2.16it/s]\n",
        "\n",
        "Done, total cost of epoch 12: 171351.0549508126\n",
        "\n",
        "0/1 Accuracy of training set: 5373 / 63325\n",
        "\n",
        "0/1 Accuracy of valid set: 91 / 450\n",
        "\n",
        "Time used: 506.5375771522522 sec\n",
        "\n",
        "---------- epoch 12 end ------------\n",
        "\n",
        "---------- epoch 13 begin ----------\n",
        "\n",
        "learning rate: 0.01\n",
        "\n",
        "batch size: 64\n",
        "\n",
        "Training:\n",
        "\n",
        "100%|██████████| 990/990 [07:34<00:00,  2.18it/s]\n",
        "\n",
        "Done, total cost of epoch 13: 171208.25144491383\n",
        "\n",
        "0/1 Accuracy of training set: 5852 / 63325\n",
        "\n",
        "0/1 Accuracy of valid set: 86 / 450\n",
        "\n",
        "Time used: 500.92492413520813 sec\n",
        "\n",
        "---------- epoch 13 end ------------\n",
        "\n",
        "---------- epoch 14 begin ----------\n",
        "\n",
        "learning rate: 0.01\n",
        "\n",
        "batch size: 64\n",
        "\n",
        "Training:\n",
        "\n",
        "100%|██████████| 990/990 [07:33<00:00,  2.18it/s]\n",
        "\n",
        "Done, total cost of epoch 14: 171093.96392376898\n",
        "\n",
        "0/1 Accuracy of training set: 5495 / 63325\n",
        "\n",
        "0/1 Accuracy of valid set: 86 / 450\n",
        "\n",
        "Time used: 501.0207462310791 sec\n",
        "\n",
        "---------- epoch 14 end ------------\n",
        "\n",
        "---------- epoch 15 begin ----------\n",
        "\n",
        "learning rate: 0.01\n",
        "\n",
        "batch size: 64\n",
        "\n",
        "Training:\n",
        "\n",
        "100%|██████████| 990/990 [07:32<00:00,  2.19it/s]\n",
        "\n",
        "Done, total cost of epoch 15: 171139.14263685947\n",
        "\n",
        "0/1 Accuracy of training set: 6114 / 63325\n",
        "\n",
        "0/1 Accuracy of valid set: 78 / 450\n",
        "\n",
        "Time used: 497.4066016674042 sec\n",
        "\n",
        "---------- epoch 15 end ------------\n",
        "\n",
        "---------- epoch 16 begin ----------\n",
        "\n",
        "learning rate: 0.01\n",
        "\n",
        "batch size: 64\n",
        "\n",
        "Training:\n",
        "\n",
        "100%|██████████| 990/990 [07:33<00:00,  2.18it/s]\n",
        "\n",
        "Done, total cost of epoch 16: 171248.69389443993\n",
        "\n",
        "0/1 Accuracy of training set: 5753 / 63325\n",
        "\n",
        "0/1 Accuracy of valid set: 104 / 450\n",
        "\n",
        "Time used: 500.58216881752014 sec\n",
        "\n",
        "---------- epoch 16 end ------------\n",
        "\n",
        "---------- epoch 17 begin ----------\n",
        "\n",
        "learning rate: 0.01\n",
        "\n",
        "batch size: 64\n",
        "\n",
        "Training:\n",
        "\n",
        "100%|██████████| 990/990 [07:30<00:00,  2.20it/s]\n",
        "\n",
        "Done, total cost of epoch 17: 171147.717553908\n",
        "\n",
        "0/1 Accuracy of training set: 5292 / 63325\n",
        "\n",
        "0/1 Accuracy of valid set: 89 / 450\n",
        "\n",
        "Time used: 496.78175687789917 sec\n",
        "\n",
        "---------- epoch 17 end ------------\n",
        "\n",
        "---------- epoch 18 begin ----------\n",
        "\n",
        "learning rate: 0.01\n",
        "\n",
        "batch size: 64\n",
        "\n",
        "Training:\n",
        "\n",
        "100%|██████████| 990/990 [07:34<00:00,  2.18it/s]\n",
        "\n",
        "Done, total cost of epoch 18: 170985.53277458943\n",
        "\n",
        "0/1 Accuracy of training set: 5738 / 63325\n",
        "\n",
        "0/1 Accuracy of valid set: 90 / 450\n",
        "\n",
        "Time used: 500.6617488861084 sec\n",
        "\n",
        "---------- epoch 18 end ------------\n",
        "\n",
        "---------- epoch 19 begin ----------\n",
        "\n",
        "learning rate: 0.01\n",
        "\n",
        "batch size: 64\n",
        "\n",
        "Training:\n",
        "\n",
        "100%|██████████| 990/990 [07:34<00:00,  2.18it/s]\n",
        "\n",
        "Done, total cost of epoch 19: 171480.5950454796\n",
        "\n",
        "0/1 Accuracy of training set: 6336 / 63325\n",
        "\n",
        "0/1 Accuracy of valid set: 90 / 450\n",
        "\n",
        "Time used: 501.84224939346313 sec\n",
        "\n",
        "---------- epoch 19 end ------------\n",
        "\n",
        "---------- epoch 20 begin ----------\n",
        "\n",
        "learning rate: 0.01\n",
        "\n",
        "batch size: 64\n",
        "\n",
        "Training:\n",
        "\n",
        "100%|██████████| 990/990 [07:37<00:00,  2.17it/s]\n",
        "\n",
        "Done, total cost of epoch 20: 171704.4557574841\n",
        "\n",
        "0/1 Accuracy of training set: 5606 / 63325\n",
        "\n",
        "0/1 Accuracy of valid set: 81 / 450\n",
        "\n",
        "Time used: 503.7624294757843 sec\n",
        "\n",
        "---------- epoch 20 end ------------\n",
        "\n",
        "---------- epoch 21 begin ----------\n",
        "\n",
        "learning rate: 0.005\n",
        "\n",
        "batch size: 64\n",
        "\n",
        "Training:\n",
        "\n",
        "100%|██████████| 990/990 [07:37<00:00,  2.16it/s]\n",
        "\n",
        "Done, total cost of epoch 21: 164700.83468701894\n",
        "\n",
        "0/1 Accuracy of training set: 6606 / 63325\n",
        "\n",
        "0/1 Accuracy of valid set: 85 / 450\n",
        "\n",
        "Time used: 503.29566645622253 sec\n",
        "\n",
        "---------- epoch 21 end ------------\n",
        "\n",
        "---------- epoch 22 begin ----------\n",
        "\n",
        "learning rate: 0.005\n",
        "\n",
        "batch size: 64\n",
        "\n",
        "Training:\n",
        "\n",
        "100%|██████████| 990/990 [07:35<00:00,  2.18it/s]\n",
        "\n",
        "Done, total cost of epoch 22: 164643.4899716282\n",
        "\n",
        "0/1 Accuracy of training set: 6229 / 63325\n",
        "\n",
        "0/1 Accuracy of valid set: 85 / 450\n",
        "\n",
        "Time used: 502.5592119693756 sec\n",
        "\n",
        "---------- epoch 22 end ------------\n",
        "\n",
        "---------- epoch 23 begin ----------\n",
        "\n",
        "learning rate: 0.005\n",
        "\n",
        "batch size: 64\n",
        "\n",
        "Training:\n",
        "\n",
        "100%|██████████| 990/990 [07:33<00:00,  2.18it/s]\n",
        "\n",
        "Done, total cost of epoch 23: 164629.61941786276\n",
        "\n",
        "0/1 Accuracy of training set: 6319 / 63325\n",
        "\n",
        "0/1 Accuracy of valid set: 83 / 450\n",
        "\n",
        "Time used: 499.8069188594818 sec\n",
        "\n",
        "---------- epoch 23 end ------------\n",
        "\n",
        "---------- epoch 24 begin ----------\n",
        "\n",
        "learning rate: 0.005\n",
        "\n",
        "batch size: 64\n",
        "\n",
        "Training:\n",
        "\n",
        "100%|██████████| 990/990 [07:36<00:00,  2.17it/s]\n",
        "\n",
        "Done, total cost of epoch 24: 164956.1992262547\n",
        "\n",
        "0/1 Accuracy of training set: 6368 / 63325\n",
        "\n",
        "0/1 Accuracy of valid set: 93 / 450\n",
        "\n",
        "Time used: 504.2802174091339 sec\n",
        "\n",
        "---------- epoch 24 end ------------\n",
        "\n",
        "---------- epoch 25 begin ----------\n",
        "\n",
        "learning rate: 0.005\n",
        "\n",
        "batch size: 64\n",
        "\n",
        "Training:\n",
        "\n",
        "100%|██████████| 990/990 [07:34<00:00,  2.18it/s]\n",
        "\n",
        "Done, total cost of epoch 25: 165199.21258438862\n",
        "\n",
        "0/1 Accuracy of training set: 6952 / 63325\n",
        "\n",
        "0/1 Accuracy of valid set: 88 / 450\n",
        "\n",
        "Time used: 503.6936266422272 sec\n",
        "\n",
        "---------- epoch 25 end ------------\n",
        "\n",
        "Total time used: 14099.73910856247 sec"
      ],
      "metadata": {
        "id": "VTgBmSIiqPog"
      }
    },
    {
      "cell_type": "code",
      "execution_count": null,
      "metadata": {
        "id": "kox5HCuM_dkT",
        "colab": {
          "base_uri": "https://localhost:8080/",
          "height": 449
        },
        "outputId": "44426d2b-f7d4-4a24-dc36-d98ad93390f6"
      },
      "outputs": [
        {
          "output_type": "display_data",
          "data": {
            "text/plain": [
              "<Figure size 640x480 with 1 Axes>"
            ],
            "image/png": "[encoded data removed]"
          },
          "metadata": {}
        }
      ],
      "source": [
        "x = np.arange(1, epoches + 1)\n",
        "plt.xlabel(\"epoches\")\n",
        "plt.ylabel(\"Accuracy\")\n",
        "plt.plot(x, acc_list_improved[0])\n",
        "plt.plot(x, acc_list_improved[1])\n",
        "plt.grid(True)\n",
        "plt.legend([\"Training data\", \"Validaton data\"], loc = \"upper left\")\n",
        "plt.savefig(\"/content/drive/MyDrive/DL/HW2/Improved_LeNet5_model/Improved_LeNet5_accuracy.png\")\n",
        "plt.show()"
      ]
    },
    {
      "cell_type": "markdown",
      "metadata": {
        "id": "sJABqGQv_j-Q"
      },
      "source": [
        "**Save accuracy result (can skip)**"
      ]
    },
    {
      "cell_type": "code",
      "execution_count": null,
      "metadata": {
        "id": "Ya7rms4D_gz6"
      },
      "outputs": [],
      "source": [
        "# save them to a file\n",
        "np.savez(\"/content/drive/MyDrive/DL/HW2/Improved_LeNet5_model/improved_acc_list.npz\", train_acc=acc_list_improved[0], valid_acc=acc_list_improved[1])"
      ]
    },
    {
      "cell_type": "markdown",
      "metadata": {
        "id": "FyroRkF7uBa0"
      },
      "source": [
        "## Part 5 : Result"
      ]
    },
    {
      "cell_type": "markdown",
      "metadata": {
        "id": "eEKMEYfWpst7"
      },
      "source": [
        "**Load train and valid accuracy**"
      ]
    },
    {
      "cell_type": "code",
      "execution_count": null,
      "metadata": {
        "id": "Nsk0v9NzpsQP"
      },
      "outputs": [],
      "source": [
        "with np.load(\"/content/drive/MyDrive/DL/HW2/Improved_LeNet5_model/improved_acc_list.npz\") as data:\n",
        "    improved_acc_train = data[\"train_acc\"]\n",
        "    improved_acc_valid = data[\"valid_acc\"]"
      ]
    },
    {
      "cell_type": "code",
      "execution_count": null,
      "metadata": {
        "id": "PuQDgT3xuD9W"
      },
      "outputs": [],
      "source": [
        "def improved_answer(test_y, test_y_pred, data_name, output_name):\n",
        "  df = np.column_stack((test_y, test_y_pred))\n",
        "  test_result = pd.DataFrame(df, index=data_name, columns=['Answer','Prediction'])\n",
        "  test_result.to_csv('/content/drive/MyDrive/DL/HW2/Improved_LeNet5_model/' + output_name + '_improved_test_result.csv')\n",
        "  return test_result"
      ]
    },
    {
      "cell_type": "markdown",
      "metadata": {
        "id": "Dpjuu4LWAl7c"
      },
      "source": [
        "**Test**"
      ]
    },
    {
      "cell_type": "code",
      "execution_count": null,
      "metadata": {
        "id": "KweOwLUCAmsz",
        "colab": {
          "base_uri": "https://localhost:8080/"
        },
        "outputId": "bb536389-d62f-40bc-8ba7-4a4c3cf476c4"
      },
      "outputs": [
        {
          "output_type": "stream",
          "name": "stdout",
          "text": [
            "Testing with /content/drive/MyDrive/DL/HW2/Improved_LeNet5_model/improved_lenet5_data_11.pkl:\n",
            "Accuracy of test set: 0.21333333333333335\n"
          ]
        }
      ],
      "source": [
        "Imp_LeNet5_test_acc, Imp_LeNet5_y_pred = test(\"/content/drive/MyDrive/DL/HW2/Improved_LeNet5_model/improved_lenet5_data_\" + str(improved_acc_valid.argmax() + 1) + \".pkl\", test_data)"
      ]
    },
    {
      "cell_type": "code",
      "execution_count": null,
      "metadata": {
        "id": "BP---nCmA3WO",
        "colab": {
          "base_uri": "https://localhost:8080/"
        },
        "outputId": "8860fc00-4b1f-4efa-d3c8-3537c3160dbe"
      },
      "outputs": [
        {
          "output_type": "execute_result",
          "data": {
            "text/plain": [
              "0.2133"
            ]
          },
          "metadata": {},
          "execution_count": 39
        }
      ],
      "source": [
        "# Test accuracy\n",
        "Imp_LeNet5_test_acc = round(Imp_LeNet5_test_acc,4)\n",
        "Imp_LeNet5_test_acc"
      ]
    },
    {
      "cell_type": "code",
      "execution_count": null,
      "metadata": {
        "id": "kU2hEIhAA8n9",
        "colab": {
          "base_uri": "https://localhost:8080/",
          "height": 423
        },
        "outputId": "6e7e6952-8c9d-46a8-dbcd-a3db229755f9"
      },
      "outputs": [
        {
          "output_type": "execute_result",
          "data": {
            "text/plain": [
              "                                      Answer  Prediction\n",
              "images/n02111277/n02111277_9420.JPEG       0          38\n",
              "images/n02111277/n02111277_9422.JPEG       0          19\n",
              "images/n02111277/n02111277_9484.JPEG       0           8\n",
              "images/n02111277/n02111277_951.JPEG        0           0\n",
              "images/n02111277/n02111277_9518.JPEG       0          49\n",
              "...                                      ...         ...\n",
              "images/n02172182/n02172182_974.JPEG       49          49\n",
              "images/n02172182/n02172182_9765.JPEG      49          34\n",
              "images/n02172182/n02172182_9789.JPEG      49          49\n",
              "images/n02172182/n02172182_98.JPEG        49          46\n",
              "images/n02172182/n02172182_981.JPEG       49          33\n",
              "\n",
              "[450 rows x 2 columns]"
            ],
            "text/html": [
              "\n",
              "  <div id=\"df-0c439be1-8124-4d9f-8212-a4ec05ab8e85\">\n",
              "    <div class=\"colab-df-container\">\n",
              "      <div>\n",
              "<style scoped>\n",
              "    .dataframe tbody tr th:only-of-type {\n",
              "        vertical-align: middle;\n",
              "    }\n",
              "\n",
              "    .dataframe tbody tr th {\n",
              "        vertical-align: top;\n",
              "    }\n",
              "\n",
              "    .dataframe thead th {\n",
              "        text-align: right;\n",
              "    }\n",
              "</style>\n",
              "<table border=\"1\" class=\"dataframe\">\n",
              "  <thead>\n",
              "    <tr style=\"text-align: right;\">\n",
              "      <th></th>\n",
              "      <th>Answer</th>\n",
              "      <th>Prediction</th>\n",
              "    </tr>\n",
              "  </thead>\n",
              "  <tbody>\n",
              "    <tr>\n",
              "      <th>images/n02111277/n02111277_9420.JPEG</th>\n",
              "      <td>0</td>\n",
              "      <td>38</td>\n",
              "    </tr>\n",
              "    <tr>\n",
              "      <th>images/n02111277/n02111277_9422.JPEG</th>\n",
              "      <td>0</td>\n",
              "      <td>19</td>\n",
              "    </tr>\n",
              "    <tr>\n",
              "      <th>images/n02111277/n02111277_9484.JPEG</th>\n",
              "      <td>0</td>\n",
              "      <td>8</td>\n",
              "    </tr>\n",
              "    <tr>\n",
              "      <th>images/n02111277/n02111277_951.JPEG</th>\n",
              "      <td>0</td>\n",
              "      <td>0</td>\n",
              "    </tr>\n",
              "    <tr>\n",
              "      <th>images/n02111277/n02111277_9518.JPEG</th>\n",
              "      <td>0</td>\n",
              "      <td>49</td>\n",
              "    </tr>\n",
              "    <tr>\n",
              "      <th>...</th>\n",
              "      <td>...</td>\n",
              "      <td>...</td>\n",
              "    </tr>\n",
              "    <tr>\n",
              "      <th>images/n02172182/n02172182_974.JPEG</th>\n",
              "      <td>49</td>\n",
              "      <td>49</td>\n",
              "    </tr>\n",
              "    <tr>\n",
              "      <th>images/n02172182/n02172182_9765.JPEG</th>\n",
              "      <td>49</td>\n",
              "      <td>34</td>\n",
              "    </tr>\n",
              "    <tr>\n",
              "      <th>images/n02172182/n02172182_9789.JPEG</th>\n",
              "      <td>49</td>\n",
              "      <td>49</td>\n",
              "    </tr>\n",
              "    <tr>\n",
              "      <th>images/n02172182/n02172182_98.JPEG</th>\n",
              "      <td>49</td>\n",
              "      <td>46</td>\n",
              "    </tr>\n",
              "    <tr>\n",
              "      <th>images/n02172182/n02172182_981.JPEG</th>\n",
              "      <td>49</td>\n",
              "      <td>33</td>\n",
              "    </tr>\n",
              "  </tbody>\n",
              "</table>\n",
              "<p>450 rows × 2 columns</p>\n",
              "</div>\n",
              "      <button class=\"colab-df-convert\" onclick=\"convertToInteractive('df-0c439be1-8124-4d9f-8212-a4ec05ab8e85')\"\n",
              "              title=\"Convert this dataframe to an interactive table.\"\n",
              "              style=\"display:none;\">\n",
              "        \n",
              "  <svg xmlns=\"http://www.w3.org/2000/svg\" height=\"24px\"viewBox=\"0 0 24 24\"\n",
              "       width=\"24px\">\n",
              "    <path d=\"M0 0h24v24H0V0z\" fill=\"none\"/>\n",
              "    <path d=\"M18.56 5.44l.94 2.06.94-2.06 2.06-.94-2.06-.94-.94-2.06-.94 2.06-2.06.94zm-11 1L8.5 8.5l.94-2.06 2.06-.94-2.06-.94L8.5 2.5l-.94 2.06-2.06.94zm10 10l.94 2.06.94-2.06 2.06-.94-2.06-.94-.94-2.06-.94 2.06-2.06.94z\"/><path d=\"M17.41 7.96l-1.37-1.37c-.4-.4-.92-.59-1.43-.59-.52 0-1.04.2-1.43.59L10.3 9.45l-7.72 7.72c-.78.78-.78 2.05 0 2.83L4 21.41c.39.39.9.59 1.41.59.51 0 1.02-.2 1.41-.59l7.78-7.78 2.81-2.81c.8-.78.8-2.07 0-2.86zM5.41 20L4 18.59l7.72-7.72 1.47 1.35L5.41 20z\"/>\n",
              "  </svg>\n",
              "      </button>\n",
              "      \n",
              "  <style>\n",
              "    .colab-df-container {\n",
              "      display:flex;\n",
              "      flex-wrap:wrap;\n",
              "      gap: 12px;\n",
              "    }\n",
              "\n",
              "    .colab-df-convert {\n",
              "      background-color: #E8F0FE;\n",
              "      border: none;\n",
              "      border-radius: 50%;\n",
              "      cursor: pointer;\n",
              "      display: none;\n",
              "      fill: #1967D2;\n",
              "      height: 32px;\n",
              "      padding: 0 0 0 0;\n",
              "      width: 32px;\n",
              "    }\n",
              "\n",
              "    .colab-df-convert:hover {\n",
              "      background-color: #E2EBFA;\n",
              "      box-shadow: 0px 1px 2px rgba(60, 64, 67, 0.3), 0px 1px 3px 1px rgba(60, 64, 67, 0.15);\n",
              "      fill: #174EA6;\n",
              "    }\n",
              "\n",
              "    [theme=dark] .colab-df-convert {\n",
              "      background-color: #3B4455;\n",
              "      fill: #D2E3FC;\n",
              "    }\n",
              "\n",
              "    [theme=dark] .colab-df-convert:hover {\n",
              "      background-color: #434B5C;\n",
              "      box-shadow: 0px 1px 3px 1px rgba(0, 0, 0, 0.15);\n",
              "      filter: drop-shadow(0px 1px 2px rgba(0, 0, 0, 0.3));\n",
              "      fill: #FFFFFF;\n",
              "    }\n",
              "  </style>\n",
              "\n",
              "      <script>\n",
              "        const buttonEl =\n",
              "          document.querySelector('#df-0c439be1-8124-4d9f-8212-a4ec05ab8e85 button.colab-df-convert');\n",
              "        buttonEl.style.display =\n",
              "          google.colab.kernel.accessAllowed ? 'block' : 'none';\n",
              "\n",
              "        async function convertToInteractive(key) {\n",
              "          const element = document.querySelector('#df-0c439be1-8124-4d9f-8212-a4ec05ab8e85');\n",
              "          const dataTable =\n",
              "            await google.colab.kernel.invokeFunction('convertToInteractive',\n",
              "                                                     [key], {});\n",
              "          if (!dataTable) return;\n",
              "\n",
              "          const docLinkHtml = 'Like what you see? Visit the ' +\n",
              "            '<a target=\"_blank\" href=https://colab.research.google.com/notebooks/data_table.ipynb>data table notebook</a>'\n",
              "            + ' to learn more about interactive tables.';\n",
              "          element.innerHTML = '';\n",
              "          dataTable['output_type'] = 'display_data';\n",
              "          await google.colab.output.renderOutput(dataTable, element);\n",
              "          const docLink = document.createElement('div');\n",
              "          docLink.innerHTML = docLinkHtml;\n",
              "          element.appendChild(docLink);\n",
              "        }\n",
              "      </script>\n",
              "    </div>\n",
              "  </div>\n",
              "  "
            ]
          },
          "metadata": {},
          "execution_count": 40
        }
      ],
      "source": [
        "output_name = 'Improved_LeNet5'\n",
        "Imp_LeNet5_answer = improved_answer(test_y, Imp_LeNet5_y_pred, test_dir, output_name)\n",
        "Imp_LeNet5_answer"
      ]
    },
    {
      "cell_type": "markdown",
      "metadata": {
        "id": "azQLsPWFrHiT"
      },
      "source": [
        "# Performance"
      ]
    },
    {
      "cell_type": "code",
      "execution_count": null,
      "metadata": {
        "id": "a-gNowjwrKqI"
      },
      "outputs": [],
      "source": [
        "perform_df_LeNet5 = pd.DataFrame([\n",
        "    [3, '5*5', 'Sigmoid(x)', '0.1->0.05', 25, 64, LeNet5_test_acc],\n",
        "    [4, '3*3', 'x*sigmoid(x)', '0.05->0.01->0.005', 25, 64, Imp_LeNet5_test_acc]],\n",
        "    columns=['Conv_layers', 'Kernel size', 'Activation function', 'lr', 'n_epochs', 'batch_size', 'top1 acc'],\n",
        "    index=['Naive LeNet5', 'Improved LeNet5'])"
      ]
    },
    {
      "cell_type": "code",
      "execution_count": null,
      "metadata": {
        "id": "R5YZp8JAuDTI",
        "colab": {
          "base_uri": "https://localhost:8080/",
          "height": 112
        },
        "outputId": "5dd2bf57-3bd0-4199-9268-65197bb6662f"
      },
      "outputs": [
        {
          "output_type": "execute_result",
          "data": {
            "text/plain": [
              "                 Conv_layers Kernel size Activation function  \\\n",
              "Naive LeNet5               3         5*5          Sigmoid(x)   \n",
              "Improved LeNet5            4         3*3        x*sigmoid(x)   \n",
              "\n",
              "                                lr  n_epochs  batch_size  top1 acc  \n",
              "Naive LeNet5             0.1->0.05        25          64    0.1444  \n",
              "Improved LeNet5  0.05->0.01->0.005        25          64    0.2133  "
            ],
            "text/html": [
              "\n",
              "  <div id=\"df-9c604793-8403-4074-87cb-69363b2dd693\">\n",
              "    <div class=\"colab-df-container\">\n",
              "      <div>\n",
              "<style scoped>\n",
              "    .dataframe tbody tr th:only-of-type {\n",
              "        vertical-align: middle;\n",
              "    }\n",
              "\n",
              "    .dataframe tbody tr th {\n",
              "        vertical-align: top;\n",
              "    }\n",
              "\n",
              "    .dataframe thead th {\n",
              "        text-align: right;\n",
              "    }\n",
              "</style>\n",
              "<table border=\"1\" class=\"dataframe\">\n",
              "  <thead>\n",
              "    <tr style=\"text-align: right;\">\n",
              "      <th></th>\n",
              "      <th>Conv_layers</th>\n",
              "      <th>Kernel size</th>\n",
              "      <th>Activation function</th>\n",
              "      <th>lr</th>\n",
              "      <th>n_epochs</th>\n",
              "      <th>batch_size</th>\n",
              "      <th>top1 acc</th>\n",
              "    </tr>\n",
              "  </thead>\n",
              "  <tbody>\n",
              "    <tr>\n",
              "      <th>Naive LeNet5</th>\n",
              "      <td>3</td>\n",
              "      <td>5*5</td>\n",
              "      <td>Sigmoid(x)</td>\n",
              "      <td>0.1-&gt;0.05</td>\n",
              "      <td>25</td>\n",
              "      <td>64</td>\n",
              "      <td>0.1444</td>\n",
              "    </tr>\n",
              "    <tr>\n",
              "      <th>Improved LeNet5</th>\n",
              "      <td>4</td>\n",
              "      <td>3*3</td>\n",
              "      <td>x*sigmoid(x)</td>\n",
              "      <td>0.05-&gt;0.01-&gt;0.005</td>\n",
              "      <td>25</td>\n",
              "      <td>64</td>\n",
              "      <td>0.2133</td>\n",
              "    </tr>\n",
              "  </tbody>\n",
              "</table>\n",
              "</div>\n",
              "      <button class=\"colab-df-convert\" onclick=\"convertToInteractive('df-9c604793-8403-4074-87cb-69363b2dd693')\"\n",
              "              title=\"Convert this dataframe to an interactive table.\"\n",
              "              style=\"display:none;\">\n",
              "        \n",
              "  <svg xmlns=\"http://www.w3.org/2000/svg\" height=\"24px\"viewBox=\"0 0 24 24\"\n",
              "       width=\"24px\">\n",
              "    <path d=\"M0 0h24v24H0V0z\" fill=\"none\"/>\n",
              "    <path d=\"M18.56 5.44l.94 2.06.94-2.06 2.06-.94-2.06-.94-.94-2.06-.94 2.06-2.06.94zm-11 1L8.5 8.5l.94-2.06 2.06-.94-2.06-.94L8.5 2.5l-.94 2.06-2.06.94zm10 10l.94 2.06.94-2.06 2.06-.94-2.06-.94-.94-2.06-.94 2.06-2.06.94z\"/><path d=\"M17.41 7.96l-1.37-1.37c-.4-.4-.92-.59-1.43-.59-.52 0-1.04.2-1.43.59L10.3 9.45l-7.72 7.72c-.78.78-.78 2.05 0 2.83L4 21.41c.39.39.9.59 1.41.59.51 0 1.02-.2 1.41-.59l7.78-7.78 2.81-2.81c.8-.78.8-2.07 0-2.86zM5.41 20L4 18.59l7.72-7.72 1.47 1.35L5.41 20z\"/>\n",
              "  </svg>\n",
              "      </button>\n",
              "      \n",
              "  <style>\n",
              "    .colab-df-container {\n",
              "      display:flex;\n",
              "      flex-wrap:wrap;\n",
              "      gap: 12px;\n",
              "    }\n",
              "\n",
              "    .colab-df-convert {\n",
              "      background-color: #E8F0FE;\n",
              "      border: none;\n",
              "      border-radius: 50%;\n",
              "      cursor: pointer;\n",
              "      display: none;\n",
              "      fill: #1967D2;\n",
              "      height: 32px;\n",
              "      padding: 0 0 0 0;\n",
              "      width: 32px;\n",
              "    }\n",
              "\n",
              "    .colab-df-convert:hover {\n",
              "      background-color: #E2EBFA;\n",
              "      box-shadow: 0px 1px 2px rgba(60, 64, 67, 0.3), 0px 1px 3px 1px rgba(60, 64, 67, 0.15);\n",
              "      fill: #174EA6;\n",
              "    }\n",
              "\n",
              "    [theme=dark] .colab-df-convert {\n",
              "      background-color: #3B4455;\n",
              "      fill: #D2E3FC;\n",
              "    }\n",
              "\n",
              "    [theme=dark] .colab-df-convert:hover {\n",
              "      background-color: #434B5C;\n",
              "      box-shadow: 0px 1px 3px 1px rgba(0, 0, 0, 0.15);\n",
              "      filter: drop-shadow(0px 1px 2px rgba(0, 0, 0, 0.3));\n",
              "      fill: #FFFFFF;\n",
              "    }\n",
              "  </style>\n",
              "\n",
              "      <script>\n",
              "        const buttonEl =\n",
              "          document.querySelector('#df-9c604793-8403-4074-87cb-69363b2dd693 button.colab-df-convert');\n",
              "        buttonEl.style.display =\n",
              "          google.colab.kernel.accessAllowed ? 'block' : 'none';\n",
              "\n",
              "        async function convertToInteractive(key) {\n",
              "          const element = document.querySelector('#df-9c604793-8403-4074-87cb-69363b2dd693');\n",
              "          const dataTable =\n",
              "            await google.colab.kernel.invokeFunction('convertToInteractive',\n",
              "                                                     [key], {});\n",
              "          if (!dataTable) return;\n",
              "\n",
              "          const docLinkHtml = 'Like what you see? Visit the ' +\n",
              "            '<a target=\"_blank\" href=https://colab.research.google.com/notebooks/data_table.ipynb>data table notebook</a>'\n",
              "            + ' to learn more about interactive tables.';\n",
              "          element.innerHTML = '';\n",
              "          dataTable['output_type'] = 'display_data';\n",
              "          await google.colab.output.renderOutput(dataTable, element);\n",
              "          const docLink = document.createElement('div');\n",
              "          docLink.innerHTML = docLinkHtml;\n",
              "          element.appendChild(docLink);\n",
              "        }\n",
              "      </script>\n",
              "    </div>\n",
              "  </div>\n",
              "  "
            ]
          },
          "metadata": {},
          "execution_count": 42
        }
      ],
      "source": [
        "perform_df_LeNet5"
      ]
    }
  ],
  "metadata": {
    "colab": {
      "provenance": [],
      "toc_visible": true,
      "authorship_tag": "ABX9TyOjYvAXSjPbDA317UTQIM3b",
      "include_colab_link": true
    },
    "kernelspec": {
      "display_name": "Python 3",
      "name": "python3"
    },
    "language_info": {
      "name": "python"
    }
  },
  "nbformat": 4,
  "nbformat_minor": 0
}